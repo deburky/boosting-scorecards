{
 "cells": [
  {
   "cell_type": "markdown",
   "metadata": {},
   "source": [
    "# <span style=\"font-family: Arial, sans-serif; color:#97f788\">Fisher Scoring</span>\n",
    "## <span style=\"font-family: Arial, sans-serif; color:navyblue\">Example with Focal Loss Logistic Regression</span>\n",
    "\n",
    "<span style=\"font-family: Arial, sans-serif; color:navyblue\">Repo: <a href=\"https://github.com/xRiskLab/fisher-scoring\" title=\"GitHub link\">https://github.com/xRiskLab/fisher-scoring</a></span>"
   ]
  },
  {
   "cell_type": "code",
   "execution_count": 1,
   "metadata": {},
   "outputs": [
    {
     "name": "stdout",
     "output_type": "stream",
     "text": [
      "Maximum iterations reached without convergence.\n",
      "Logistic regression Gini: 0.5935\n",
      "Convergence reached after 30 iterations.\n",
      "Focal regression Gini: 0.6208\n"
     ]
    }
   ],
   "source": [
    "import pandas as pd\n",
    "from sklearn.datasets import make_classification\n",
    "from sklearn.metrics import roc_auc_score\n",
    "from sklearn.model_selection import train_test_split\n",
    "from fisher_scoring import FisherScoringFocalRegression\n",
    "from fisher_scoring import FisherScoringLogisticRegression\n",
    "\n",
    "# Set the prevalence of the positive class\n",
    "prevalence = 0.01\n",
    "\n",
    "X, y = make_classification(\n",
    "    n_samples=7_000,\n",
    "    n_features=10,\n",
    "    n_informative=6,\n",
    "    n_redundant=0,\n",
    "    n_classes=2,\n",
    "    weights=[1 - prevalence, prevalence],\n",
    "    random_state=42\n",
    ")\n",
    "\n",
    "X, y = pd.DataFrame(X), pd.Series(y)\n",
    "X.columns = [f'feature_{i}' for i in range(X.shape[1])]\n",
    "\n",
    "ix_train, ix_test = train_test_split(X.index, test_size=0.3, random_state=42)\n",
    "\n",
    "model_logistic = FisherScoringLogisticRegression(max_iter=100, information='observed')\n",
    "model_logistic.fit(X.loc[ix_train], y.loc[ix_train])\n",
    "\n",
    "probas_logistic = model_logistic.predict_proba(X.loc[ix_test])[:, 1]\n",
    "gini_logistic = 2 * roc_auc_score(y.loc[ix_test], probas_logistic) - 1\n",
    "print(f'Logistic regression Gini: {gini_logistic:.4f}')\n",
    "\n",
    "model_focal = FisherScoringFocalRegression(gamma=2.0, max_iter=100, information='expected')\n",
    "model_focal.fit(X.loc[ix_train], y.loc[ix_train])\n",
    "probas_focal = model_focal.predict_proba(X.loc[ix_test])[:, 1]\n",
    "gini_focal = 2 * roc_auc_score(y.loc[ix_test], probas_focal) - 1\n",
    "print(f'Focal regression Gini: {gini_focal:.4f}')"
   ]
  },
  {
   "cell_type": "code",
   "execution_count": 2,
   "metadata": {},
   "outputs": [
    {
     "name": "stdout",
     "output_type": "stream",
     "text": [
      "Convergence reached after 47 iterations.\n",
      "Focal regression Gini: 0.6208\n"
     ]
    }
   ],
   "source": [
    "model_focal_obs = FisherScoringFocalRegression(\n",
    "    gamma=2.0, max_iter=300, information='observed'\n",
    ")\n",
    "model_focal_obs.fit(X.loc[ix_train], y.loc[ix_train])\n",
    "probas_focal = model_focal_obs.predict_proba(X.loc[ix_test])[:, 1]\n",
    "gini_focal = 2 * roc_auc_score(y.loc[ix_test], probas_focal) - 1\n",
    "print(f'Focal regression Gini: {gini_focal:.4f}')"
   ]
  },
  {
   "cell_type": "code",
   "execution_count": 3,
   "metadata": {},
   "outputs": [
    {
     "name": "stdout",
     "output_type": "stream",
     "text": [
      "    Expected Fisher  Observed Fisher\n",
      "0         -3.945837        -3.945837\n",
      "1         -0.123839        -0.123839\n",
      "2          0.041933         0.041933\n",
      "3         -0.427300        -0.427300\n",
      "4         -0.769091        -0.769091\n",
      "5          0.655187         0.655187\n",
      "6          0.401045         0.401045\n",
      "7         -0.247576        -0.247576\n",
      "8         -0.079818        -0.079818\n",
      "9          0.190831         0.190831\n",
      "10         0.875582         0.875582\n"
     ]
    }
   ],
   "source": [
    "import pandas as pd\n",
    "\n",
    "betas = pd.DataFrame(\n",
    "    {\n",
    "        'Expected Fisher': model_focal.beta.ravel(),\n",
    "        'Observed Fisher': model_focal_obs.beta.ravel(),\n",
    "    }\n",
    ")\n",
    "print(betas)"
   ]
  }
 ],
 "metadata": {
  "kernelspec": {
   "display_name": "lr-focal-loss-Opjerf94-py3.10",
   "language": "python",
   "name": "python3"
  },
  "language_info": {
   "codemirror_mode": {
    "name": "ipython",
    "version": 3
   },
   "file_extension": ".py",
   "mimetype": "text/x-python",
   "name": "python",
   "nbconvert_exporter": "python",
   "pygments_lexer": "ipython3",
   "version": "3.10.12"
  }
 },
 "nbformat": 4,
 "nbformat_minor": 2
}
