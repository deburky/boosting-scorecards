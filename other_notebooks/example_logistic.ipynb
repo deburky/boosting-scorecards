{
 "cells": [
  {
   "cell_type": "markdown",
   "metadata": {},
   "source": [
    "# <span style=\"font-family: Arial, sans-serif; color:#97f788\">Fisher Scoring</span>\n",
    "## <span style=\"font-family: Arial, sans-serif; color:navyblue\">Example with WOE Logistic Regression</span>\n",
    "\n",
    "<span style=\"font-family: Arial, sans-serif; color:navyblue\">Repo: <a href=\"https://github.com/xRiskLab/fisher-scoring\" title=\"GitHub link\">https://github.com/xRiskLab/fisher-scoring</a></span>"
   ]
  },
  {
   "cell_type": "markdown",
   "metadata": {},
   "source": [
    "```python\n",
    "%%capture\n",
    "!pip install pandas scikit-learn optbinning fisher-scoring statsmodels\n",
    "````"
   ]
  },
  {
   "cell_type": "code",
   "execution_count": 1,
   "metadata": {},
   "outputs": [],
   "source": [
    "import pandas as pd\n",
    "from sklearn.model_selection import train_test_split\n",
    "\n",
    "# Fetch blended credit data\n",
    "url = (\n",
    "    \"https://drive.google.com/file/d/1Is8UZnPRExI-SLJMle8GRbFGpha5IvYZ/view?usp=sharing\"\n",
    ")\n",
    "url = \"https://drive.google.com/uc?id=\" + url.split(\"/\")[-2]\n",
    "dataset = pd.read_csv(url, index_col=False)\n",
    "\n",
    "features = [\n",
    "    \"revolving_utilization_of_unsecured_lines\",\n",
    "    \"account_never_delinq_percent\",\n",
    "    \"net_fraction_revolving_burden\",\n",
    "    \"external_risk_estimate\",\n",
    "    \"num_total_cc_accounts\",\n",
    "    \"average_months_in_file\",\n",
    "]\n",
    "\n",
    "target = 'is_bad'\n",
    "\n",
    "X, y = dataset[features], dataset[target]\n",
    "\n",
    "ix_train, ix_test = train_test_split(\n",
    "    X.index, stratify=y, test_size=0.3, random_state=62\n",
    ")"
   ]
  },
  {
   "cell_type": "code",
   "execution_count": 2,
   "metadata": {},
   "outputs": [
    {
     "name": "stdout",
     "output_type": "stream",
     "text": [
      "Starting Fisher Scoring Iterations...\n",
      "Iteration: 1, Log Loss: 0.6931\n",
      "Iteration: 2, Log Loss: 0.2724\n",
      "Iteration: 3, Log Loss: 0.2002\n",
      "Iteration: 4, Log Loss: 0.1740\n",
      "Iteration: 5, Log Loss: 0.1665\n",
      "Iteration: 6, Log Loss: 0.1654\n",
      "Iteration: 7, Log Loss: 0.1653\n",
      "Iteration: 8, Log Loss: 0.1653\n",
      "Iteration: 9, Log Loss: 0.1653\n",
      "Iteration: 10, Log Loss: 0.1653\n",
      "Convergence reached after 10 iterations.\n",
      "fit_model took 0.85 seconds\n",
      "Coefficients: [[-2.25705117 -1.01248996 -1.02589516 -0.39071063 -0.77812967 -1.25793343\n",
      "  -0.45646565]]\n",
      "Gini (test): 88.30%\n"
     ]
    },
    {
     "data": {
      "text/html": [
       "<pre style=\"white-space:pre;overflow-x:auto;line-height:normal;font-family:Menlo,'DejaVu Sans Mono',consolas,'Courier New',monospace\">╭── Fisher Scoring Logistic Regression Fit ───╮\n",
       "│                                             │\n",
       "│         Total Fisher Scoring Iterations: <span style=\"color: #00d7af; text-decoration-color: #00d7af\">10</span> │\n",
       "│         Log Likelihood: <span style=\"color: #00d7af; text-decoration-color: #00d7af\">-1157.3816</span>          │\n",
       "│         Beta 0 = intercept (bias): <span style=\"color: #00d7af; text-decoration-color: #00d7af\">True</span>     │\n",
       "│                                             │\n",
       "╰─────────────────────────────────────────────╯\n",
       "</pre>\n"
      ],
      "text/plain": [
       "╭── Fisher Scoring Logistic Regression Fit ───╮\n",
       "│                                             │\n",
       "│         Total Fisher Scoring Iterations: \u001b[38;5;43m10\u001b[0m │\n",
       "│         Log Likelihood: \u001b[38;5;43m-1157.3816\u001b[0m          │\n",
       "│         Beta 0 = intercept (bias): \u001b[38;5;43mTrue\u001b[0m     │\n",
       "│                                             │\n",
       "╰─────────────────────────────────────────────╯\n"
      ]
     },
     "metadata": {},
     "output_type": "display_data"
    },
    {
     "data": {
      "text/html": [
       "<pre style=\"white-space:pre;overflow-x:auto;line-height:normal;font-family:Menlo,'DejaVu Sans Mono',consolas,'Courier New',monospace\"><span style=\"font-style: italic\">                                    Fisher Scoring Logistic Regression Summary                                     </span>\n",
       "┏━━━━━━━━━━━━━━━━━━━━━━━━━━━━━━━━━━━━━━━━━━┳━━━━━━━━━━┳━━━━━━━━━━━━┳━━━━━━━━━━━━━━┳━━━━━━━━━┳━━━━━━━━━━┳━━━━━━━━━━┓\n",
       "┃<span style=\"font-weight: bold\">                                          </span>┃<span style=\"font-weight: bold\">          </span>┃<span style=\"font-weight: bold\">            </span>┃<span style=\"font-weight: bold\"> Wald         </span>┃<span style=\"font-weight: bold\">         </span>┃<span style=\"font-weight: bold\">          </span>┃<span style=\"font-weight: bold\">          </span>┃\n",
       "┃<span style=\"font-weight: bold\">                                Parameter </span>┃<span style=\"font-weight: bold\"> Estimate </span>┃<span style=\"font-weight: bold\"> Std. Error </span>┃<span style=\"font-weight: bold\"> Statistic    </span>┃<span style=\"font-weight: bold\"> P-value </span>┃<span style=\"font-weight: bold\"> Lower CI </span>┃<span style=\"font-weight: bold\"> Upper CI </span>┃\n",
       "┡━━━━━━━━━━━━━━━━━━━━━━━━━━━━━━━━━━━━━━━━━━╇━━━━━━━━━━╇━━━━━━━━━━━━╇━━━━━━━━━━━━━━╇━━━━━━━━━╇━━━━━━━━━━╇━━━━━━━━━━┩\n",
       "│<span style=\"color: #00d7af; text-decoration-color: #00d7af\">                         intercept (bias) </span>│<span style=\"color: #00d7af; text-decoration-color: #00d7af\"> -2.2571  </span>│<span style=\"color: #00d7af; text-decoration-color: #00d7af\"> 0.0727     </span>│<span style=\"color: #00d7af; text-decoration-color: #00d7af\"> -31.0343     </span>│<span style=\"color: #00d7af; text-decoration-color: #00d7af\"> 0.0000  </span>│<span style=\"color: #00d7af; text-decoration-color: #00d7af\"> -2.3996  </span>│<span style=\"color: #00d7af; text-decoration-color: #00d7af\"> -2.1145  </span>│\n",
       "│<span style=\"color: #00d7af; text-decoration-color: #00d7af\"> revolving_utilization_of_unsecured_lines </span>│<span style=\"color: #00d7af; text-decoration-color: #00d7af\"> -1.0125  </span>│<span style=\"color: #00d7af; text-decoration-color: #00d7af\"> 0.0515     </span>│<span style=\"color: #00d7af; text-decoration-color: #00d7af\"> -19.6430     </span>│<span style=\"color: #00d7af; text-decoration-color: #00d7af\"> 0.0000  </span>│<span style=\"color: #00d7af; text-decoration-color: #00d7af\"> -1.1135  </span>│<span style=\"color: #00d7af; text-decoration-color: #00d7af\"> -0.9115  </span>│\n",
       "│<span style=\"color: #00d7af; text-decoration-color: #00d7af\">             account_never_delinq_percent </span>│<span style=\"color: #00d7af; text-decoration-color: #00d7af\"> -1.0259  </span>│<span style=\"color: #00d7af; text-decoration-color: #00d7af\"> 0.0523     </span>│<span style=\"color: #00d7af; text-decoration-color: #00d7af\"> -19.6299     </span>│<span style=\"color: #00d7af; text-decoration-color: #00d7af\"> 0.0000  </span>│<span style=\"color: #00d7af; text-decoration-color: #00d7af\"> -1.1283  </span>│<span style=\"color: #00d7af; text-decoration-color: #00d7af\"> -0.9235  </span>│\n",
       "│<span style=\"color: #00d7af; text-decoration-color: #00d7af\">            net_fraction_revolving_burden </span>│<span style=\"color: #00d7af; text-decoration-color: #00d7af\"> -0.3907  </span>│<span style=\"color: #00d7af; text-decoration-color: #00d7af\"> 0.0846     </span>│<span style=\"color: #00d7af; text-decoration-color: #00d7af\"> -4.6192      </span>│<span style=\"color: #00d7af; text-decoration-color: #00d7af\"> 0.0000  </span>│<span style=\"color: #00d7af; text-decoration-color: #00d7af\"> -0.5565  </span>│<span style=\"color: #00d7af; text-decoration-color: #00d7af\"> -0.2249  </span>│\n",
       "│<span style=\"color: #00d7af; text-decoration-color: #00d7af\">                   external_risk_estimate </span>│<span style=\"color: #00d7af; text-decoration-color: #00d7af\"> -0.7781  </span>│<span style=\"color: #00d7af; text-decoration-color: #00d7af\"> 0.0718     </span>│<span style=\"color: #00d7af; text-decoration-color: #00d7af\"> -10.8446     </span>│<span style=\"color: #00d7af; text-decoration-color: #00d7af\"> 0.0000  </span>│<span style=\"color: #00d7af; text-decoration-color: #00d7af\"> -0.9188  </span>│<span style=\"color: #00d7af; text-decoration-color: #00d7af\"> -0.6375  </span>│\n",
       "│<span style=\"color: #00d7af; text-decoration-color: #00d7af\">                    num_total_cc_accounts </span>│<span style=\"color: #00d7af; text-decoration-color: #00d7af\"> -1.2579  </span>│<span style=\"color: #00d7af; text-decoration-color: #00d7af\"> 0.2734     </span>│<span style=\"color: #00d7af; text-decoration-color: #00d7af\"> -4.6011      </span>│<span style=\"color: #00d7af; text-decoration-color: #00d7af\"> 0.0000  </span>│<span style=\"color: #00d7af; text-decoration-color: #00d7af\"> -1.7938  </span>│<span style=\"color: #00d7af; text-decoration-color: #00d7af\"> -0.7221  </span>│\n",
       "│<span style=\"color: #00d7af; text-decoration-color: #00d7af\">                   average_months_in_file </span>│<span style=\"color: #00d7af; text-decoration-color: #00d7af\"> -0.4565  </span>│<span style=\"color: #00d7af; text-decoration-color: #00d7af\"> 0.0987     </span>│<span style=\"color: #00d7af; text-decoration-color: #00d7af\"> -4.6266      </span>│<span style=\"color: #00d7af; text-decoration-color: #00d7af\"> 0.0000  </span>│<span style=\"color: #00d7af; text-decoration-color: #00d7af\"> -0.6498  </span>│<span style=\"color: #00d7af; text-decoration-color: #00d7af\"> -0.2631  </span>│\n",
       "└──────────────────────────────────────────┴──────────┴────────────┴──────────────┴─────────┴──────────┴──────────┘\n",
       "</pre>\n"
      ],
      "text/plain": [
       "\u001b[3m                                    Fisher Scoring Logistic Regression Summary                                     \u001b[0m\n",
       "┏━━━━━━━━━━━━━━━━━━━━━━━━━━━━━━━━━━━━━━━━━━┳━━━━━━━━━━┳━━━━━━━━━━━━┳━━━━━━━━━━━━━━┳━━━━━━━━━┳━━━━━━━━━━┳━━━━━━━━━━┓\n",
       "┃\u001b[1m                                          \u001b[0m┃\u001b[1m          \u001b[0m┃\u001b[1m            \u001b[0m┃\u001b[1m \u001b[0m\u001b[1mWald        \u001b[0m\u001b[1m \u001b[0m┃\u001b[1m         \u001b[0m┃\u001b[1m          \u001b[0m┃\u001b[1m          \u001b[0m┃\n",
       "┃\u001b[1m \u001b[0m\u001b[1m                               Parameter\u001b[0m\u001b[1m \u001b[0m┃\u001b[1m \u001b[0m\u001b[1mEstimate\u001b[0m\u001b[1m \u001b[0m┃\u001b[1m \u001b[0m\u001b[1mStd. Error\u001b[0m\u001b[1m \u001b[0m┃\u001b[1m \u001b[0m\u001b[1mStatistic   \u001b[0m\u001b[1m \u001b[0m┃\u001b[1m \u001b[0m\u001b[1mP-value\u001b[0m\u001b[1m \u001b[0m┃\u001b[1m \u001b[0m\u001b[1mLower CI\u001b[0m\u001b[1m \u001b[0m┃\u001b[1m \u001b[0m\u001b[1mUpper CI\u001b[0m\u001b[1m \u001b[0m┃\n",
       "┡━━━━━━━━━━━━━━━━━━━━━━━━━━━━━━━━━━━━━━━━━━╇━━━━━━━━━━╇━━━━━━━━━━━━╇━━━━━━━━━━━━━━╇━━━━━━━━━╇━━━━━━━━━━╇━━━━━━━━━━┩\n",
       "│\u001b[38;5;43m \u001b[0m\u001b[38;5;43m                        intercept (bias)\u001b[0m\u001b[38;5;43m \u001b[0m│\u001b[38;5;43m \u001b[0m\u001b[38;5;43m-2.2571 \u001b[0m\u001b[38;5;43m \u001b[0m│\u001b[38;5;43m \u001b[0m\u001b[38;5;43m0.0727    \u001b[0m\u001b[38;5;43m \u001b[0m│\u001b[38;5;43m \u001b[0m\u001b[38;5;43m-31.0343    \u001b[0m\u001b[38;5;43m \u001b[0m│\u001b[38;5;43m \u001b[0m\u001b[38;5;43m0.0000 \u001b[0m\u001b[38;5;43m \u001b[0m│\u001b[38;5;43m \u001b[0m\u001b[38;5;43m-2.3996 \u001b[0m\u001b[38;5;43m \u001b[0m│\u001b[38;5;43m \u001b[0m\u001b[38;5;43m-2.1145 \u001b[0m\u001b[38;5;43m \u001b[0m│\n",
       "│\u001b[38;5;43m \u001b[0m\u001b[38;5;43mrevolving_utilization_of_unsecured_lines\u001b[0m\u001b[38;5;43m \u001b[0m│\u001b[38;5;43m \u001b[0m\u001b[38;5;43m-1.0125 \u001b[0m\u001b[38;5;43m \u001b[0m│\u001b[38;5;43m \u001b[0m\u001b[38;5;43m0.0515    \u001b[0m\u001b[38;5;43m \u001b[0m│\u001b[38;5;43m \u001b[0m\u001b[38;5;43m-19.6430    \u001b[0m\u001b[38;5;43m \u001b[0m│\u001b[38;5;43m \u001b[0m\u001b[38;5;43m0.0000 \u001b[0m\u001b[38;5;43m \u001b[0m│\u001b[38;5;43m \u001b[0m\u001b[38;5;43m-1.1135 \u001b[0m\u001b[38;5;43m \u001b[0m│\u001b[38;5;43m \u001b[0m\u001b[38;5;43m-0.9115 \u001b[0m\u001b[38;5;43m \u001b[0m│\n",
       "│\u001b[38;5;43m \u001b[0m\u001b[38;5;43m            account_never_delinq_percent\u001b[0m\u001b[38;5;43m \u001b[0m│\u001b[38;5;43m \u001b[0m\u001b[38;5;43m-1.0259 \u001b[0m\u001b[38;5;43m \u001b[0m│\u001b[38;5;43m \u001b[0m\u001b[38;5;43m0.0523    \u001b[0m\u001b[38;5;43m \u001b[0m│\u001b[38;5;43m \u001b[0m\u001b[38;5;43m-19.6299    \u001b[0m\u001b[38;5;43m \u001b[0m│\u001b[38;5;43m \u001b[0m\u001b[38;5;43m0.0000 \u001b[0m\u001b[38;5;43m \u001b[0m│\u001b[38;5;43m \u001b[0m\u001b[38;5;43m-1.1283 \u001b[0m\u001b[38;5;43m \u001b[0m│\u001b[38;5;43m \u001b[0m\u001b[38;5;43m-0.9235 \u001b[0m\u001b[38;5;43m \u001b[0m│\n",
       "│\u001b[38;5;43m \u001b[0m\u001b[38;5;43m           net_fraction_revolving_burden\u001b[0m\u001b[38;5;43m \u001b[0m│\u001b[38;5;43m \u001b[0m\u001b[38;5;43m-0.3907 \u001b[0m\u001b[38;5;43m \u001b[0m│\u001b[38;5;43m \u001b[0m\u001b[38;5;43m0.0846    \u001b[0m\u001b[38;5;43m \u001b[0m│\u001b[38;5;43m \u001b[0m\u001b[38;5;43m-4.6192     \u001b[0m\u001b[38;5;43m \u001b[0m│\u001b[38;5;43m \u001b[0m\u001b[38;5;43m0.0000 \u001b[0m\u001b[38;5;43m \u001b[0m│\u001b[38;5;43m \u001b[0m\u001b[38;5;43m-0.5565 \u001b[0m\u001b[38;5;43m \u001b[0m│\u001b[38;5;43m \u001b[0m\u001b[38;5;43m-0.2249 \u001b[0m\u001b[38;5;43m \u001b[0m│\n",
       "│\u001b[38;5;43m \u001b[0m\u001b[38;5;43m                  external_risk_estimate\u001b[0m\u001b[38;5;43m \u001b[0m│\u001b[38;5;43m \u001b[0m\u001b[38;5;43m-0.7781 \u001b[0m\u001b[38;5;43m \u001b[0m│\u001b[38;5;43m \u001b[0m\u001b[38;5;43m0.0718    \u001b[0m\u001b[38;5;43m \u001b[0m│\u001b[38;5;43m \u001b[0m\u001b[38;5;43m-10.8446    \u001b[0m\u001b[38;5;43m \u001b[0m│\u001b[38;5;43m \u001b[0m\u001b[38;5;43m0.0000 \u001b[0m\u001b[38;5;43m \u001b[0m│\u001b[38;5;43m \u001b[0m\u001b[38;5;43m-0.9188 \u001b[0m\u001b[38;5;43m \u001b[0m│\u001b[38;5;43m \u001b[0m\u001b[38;5;43m-0.6375 \u001b[0m\u001b[38;5;43m \u001b[0m│\n",
       "│\u001b[38;5;43m \u001b[0m\u001b[38;5;43m                   num_total_cc_accounts\u001b[0m\u001b[38;5;43m \u001b[0m│\u001b[38;5;43m \u001b[0m\u001b[38;5;43m-1.2579 \u001b[0m\u001b[38;5;43m \u001b[0m│\u001b[38;5;43m \u001b[0m\u001b[38;5;43m0.2734    \u001b[0m\u001b[38;5;43m \u001b[0m│\u001b[38;5;43m \u001b[0m\u001b[38;5;43m-4.6011     \u001b[0m\u001b[38;5;43m \u001b[0m│\u001b[38;5;43m \u001b[0m\u001b[38;5;43m0.0000 \u001b[0m\u001b[38;5;43m \u001b[0m│\u001b[38;5;43m \u001b[0m\u001b[38;5;43m-1.7938 \u001b[0m\u001b[38;5;43m \u001b[0m│\u001b[38;5;43m \u001b[0m\u001b[38;5;43m-0.7221 \u001b[0m\u001b[38;5;43m \u001b[0m│\n",
       "│\u001b[38;5;43m \u001b[0m\u001b[38;5;43m                  average_months_in_file\u001b[0m\u001b[38;5;43m \u001b[0m│\u001b[38;5;43m \u001b[0m\u001b[38;5;43m-0.4565 \u001b[0m\u001b[38;5;43m \u001b[0m│\u001b[38;5;43m \u001b[0m\u001b[38;5;43m0.0987    \u001b[0m\u001b[38;5;43m \u001b[0m│\u001b[38;5;43m \u001b[0m\u001b[38;5;43m-4.6266     \u001b[0m\u001b[38;5;43m \u001b[0m│\u001b[38;5;43m \u001b[0m\u001b[38;5;43m0.0000 \u001b[0m\u001b[38;5;43m \u001b[0m│\u001b[38;5;43m \u001b[0m\u001b[38;5;43m-0.6498 \u001b[0m\u001b[38;5;43m \u001b[0m│\u001b[38;5;43m \u001b[0m\u001b[38;5;43m-0.2631 \u001b[0m\u001b[38;5;43m \u001b[0m│\n",
       "└──────────────────────────────────────────┴──────────┴────────────┴──────────────┴─────────┴──────────┴──────────┘\n"
      ]
     },
     "metadata": {},
     "output_type": "display_data"
    }
   ],
   "source": [
    "import time\n",
    "from typing import Callable, Any\n",
    "\n",
    "from optbinning import BinningProcess\n",
    "from fisher_scoring import FisherScoringLogisticRegression\n",
    "from sklearn.pipeline import make_pipeline\n",
    "from sklearn.metrics import roc_auc_score\n",
    "\n",
    "# Define the timing decorator\n",
    "def timing(func: Callable) -> Callable:\n",
    "    def wrapper(*args, **kwargs) -> Any:\n",
    "        start_time = time.time()\n",
    "        result = func(*args, **kwargs)\n",
    "        end_time = time.time()\n",
    "        print(f\"{func.__name__} took {end_time - start_time:.2f} seconds\")\n",
    "        return result\n",
    "    return wrapper\n",
    "\n",
    "# Create the binning process and logistic model pipeline\n",
    "binning_process = BinningProcess(variable_names=features, categorical_variables=[])\n",
    "model = FisherScoringLogisticRegression(use_bias=True, information='expected', verbose=True)\n",
    "woe_logistic_model = make_pipeline(binning_process, model)\n",
    "\n",
    "@timing\n",
    "def fit_model(pipeline, X_train, y_train):\n",
    "    pipeline.fit(X_train, y_train)\n",
    "\n",
    "# Fit the model and time it\n",
    "fit_model(woe_logistic_model, X.loc[ix_train, :], y[ix_train])\n",
    "\n",
    "# Extract model weights and calculate Gini coefficient\n",
    "model_weights = woe_logistic_model[-1].beta.T\n",
    "print(f\"Coefficients: {model_weights}\")\n",
    "\n",
    "predictions = woe_logistic_model.predict_proba(X.loc[ix_test, :])[:, 1]\n",
    "gini = 2 * roc_auc_score(y[ix_test], predictions) - 1\n",
    "print(f\"Gini (test): {gini:.2%}\")\n",
    "\n",
    "# Display the summary of the model\n",
    "woe_logistic_model[-1].display_summary(style='cyan3')"
   ]
  },
  {
   "cell_type": "code",
   "execution_count": 3,
   "metadata": {},
   "outputs": [
    {
     "name": "stdout",
     "output_type": "stream",
     "text": [
      "Optimization terminated successfully.\n",
      "         Current function value: 0.165340\n",
      "         Iterations 9\n",
      "                           Logit Regression Results                           \n",
      "==============================================================================\n",
      "Dep. Variable:                      y   No. Observations:                 7000\n",
      "Model:                          Logit   Df Residuals:                     6993\n",
      "Method:                           MLE   Df Model:                            6\n",
      "Date:                Wed, 31 Jul 2024   Pseudo R-squ.:                  0.4914\n",
      "Time:                        14:33:20   Log-Likelihood:                -1157.4\n",
      "converged:                       True   LL-Null:                       -2275.6\n",
      "Covariance Type:            nonrobust   LLR p-value:                     0.000\n",
      "============================================================================================================\n",
      "                                               coef    std err          z      P>|z|      [0.025      0.975]\n",
      "------------------------------------------------------------------------------------------------------------\n",
      "const                                       -2.2571      0.073    -31.034      0.000      -2.400      -2.115\n",
      "revolving_utilization_of_unsecured_lines    -1.0125      0.052    -19.643      0.000      -1.114      -0.911\n",
      "account_never_delinq_percent                -1.0259      0.052    -19.630      0.000      -1.128      -0.923\n",
      "net_fraction_revolving_burden               -0.3907      0.085     -4.619      0.000      -0.556      -0.225\n",
      "external_risk_estimate                      -0.7781      0.072    -10.845      0.000      -0.919      -0.637\n",
      "num_total_cc_accounts                       -1.2579      0.273     -4.601      0.000      -1.794      -0.722\n",
      "average_months_in_file                      -0.4565      0.099     -4.627      0.000      -0.650      -0.263\n",
      "============================================================================================================\n"
     ]
    }
   ],
   "source": [
    "import statsmodels.api as sm\n",
    "\n",
    "# Fit the model using statsmodels\n",
    "X_train = sm.add_constant(woe_logistic_model[:-1].transform(X.loc[ix_train, :]))\n",
    "y_train = y[ix_train].values\n",
    "\n",
    "model = sm.Logit(y_train, X_train)\n",
    "result = model.fit()\n",
    "print(result.summary())"
   ]
  },
  {
   "cell_type": "code",
   "execution_count": 4,
   "metadata": {},
   "outputs": [
    {
     "name": "stdout",
     "output_type": "stream",
     "text": [
      "Likelihood ratio: 2236.40, p-value: 0.0000\n"
     ]
    }
   ],
   "source": [
    "import numpy as np\n",
    "from scipy.stats import chi2\n",
    "\n",
    "def likelihood_ratio_test(model, y, ix_train):\n",
    "    ll_model = model.loss_history[-1]\n",
    "    ll_p = np.ones_like(y[ix_train]) * np.mean(y[ix_train])\n",
    "    ll_null = model.compute_loss(y[ix_train], ll_p)\n",
    "    likelihood_ratio_test = 2 * (ll_model - ll_null)\n",
    "    p_value = 1 - chi2.cdf(likelihood_ratio_test, 1)\n",
    "    return likelihood_ratio_test, p_value\n",
    "\n",
    "\n",
    "ll_ratio, p_value = likelihood_ratio_test(woe_logistic_model[-1], y, ix_train)\n",
    "print(f\"Likelihood ratio: {ll_ratio:.2f}, p-value: {p_value:.4f}\")"
   ]
  }
 ],
 "metadata": {
  "kernelspec": {
   "display_name": "Python 3 (ipykernel)",
   "language": "python",
   "name": "python3"
  },
  "language_info": {
   "codemirror_mode": {
    "name": "ipython",
    "version": 3
   },
   "file_extension": ".py",
   "mimetype": "text/x-python",
   "name": "python",
   "nbconvert_exporter": "python",
   "pygments_lexer": "ipython3",
   "version": "3.10.12"
  }
 },
 "nbformat": 4,
 "nbformat_minor": 4
}
