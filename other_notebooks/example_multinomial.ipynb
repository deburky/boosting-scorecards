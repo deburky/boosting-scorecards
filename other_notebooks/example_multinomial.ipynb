{
 "cells": [
  {
   "cell_type": "markdown",
   "metadata": {},
   "source": [
    "# <span style=\"font-family: Arial, sans-serif; color:#97f788\">Fisher Scoring</span>\n",
    "## <span style=\"font-family: Arial, sans-serif; color:navyblue\">Example with Multinomial Logistic Regression</span>\n",
    "\n",
    "<span style=\"font-family: Arial, sans-serif; color:navyblue\">Repo: <a href=\"https://github.com/xRiskLab/fisher-scoring\" title=\"GitHub link\">https://github.com/xRiskLab/fisher-scoring</a></span>"
   ]
  },
  {
   "cell_type": "code",
   "execution_count": 1,
   "metadata": {},
   "outputs": [],
   "source": [
    "import numpy as np\n",
    "import pandas as pd\n",
    "from sklearn.datasets import make_multilabel_classification\n",
    "from sklearn.metrics import classification_report\n",
    "from sklearn.model_selection import train_test_split\n",
    "from fisher_scoring import FisherScoringMultinomialRegression\n",
    "\n",
    "from faker import Faker\n",
    "Faker.seed(0)\n",
    "\n",
    "# Generate a multilabel dataset\n",
    "X, y = make_multilabel_classification(n_samples=1000, n_features=5, n_classes=4, n_labels=2, random_state=42)\n",
    "X, y = pd.DataFrame(X), pd.DataFrame(y)\n",
    "X.columns = [Faker().word() for _ in range(X.shape[1])]\n",
    "\n",
    "# encode y as label encoded\n",
    "y = y.idxmax(axis=1)\n",
    "\n",
    "# Split the dataset into train and test sets\n",
    "ix_train, ix_test = train_test_split(range(X.shape[0]), test_size=0.2, random_state=42)"
   ]
  },
  {
   "cell_type": "code",
   "execution_count": 3,
   "metadata": {},
   "outputs": [
    {
     "name": "stdout",
     "output_type": "stream",
     "text": [
      "              precision    recall  f1-score   support\n",
      "\n",
      "           0       0.77      0.76      0.77        85\n",
      "           1       0.78      0.84      0.81        77\n",
      "           2       0.85      0.74      0.79        23\n",
      "           3       0.92      0.80      0.86        15\n",
      "\n",
      "    accuracy                           0.80       200\n",
      "   macro avg       0.83      0.79      0.81       200\n",
      "weighted avg       0.80      0.80      0.79       200\n",
      "\n"
     ]
    }
   ],
   "source": [
    "from sklearn.metrics import classification_report\n",
    "\n",
    "model = FisherScoringMultinomialRegression(\n",
    "    use_bias=True, \n",
    "    verbose=0, \n",
    "    epsilon=1e-3,\n",
    "    max_iter=100, \n",
    "    information=\"observed\"\n",
    ")\n",
    "\n",
    "model.fit(X.loc[ix_train], y.loc[ix_train])\n",
    "probas = model.predict_proba(X.loc[ix_test])\n",
    "preds = model.predict(X.loc[ix_test])\n",
    "print(classification_report(y.loc[ix_test], preds))"
   ]
  },
  {
   "cell_type": "code",
   "execution_count": 4,
   "metadata": {},
   "outputs": [
    {
     "name": "stdout",
     "output_type": "stream",
     "text": [
      "              precision    recall  f1-score   support\n",
      "\n",
      "           0       0.76      0.76      0.76        85\n",
      "           1       0.78      0.84      0.81        77\n",
      "           2       0.85      0.74      0.79        23\n",
      "           3       0.92      0.73      0.81        15\n",
      "\n",
      "    accuracy                           0.79       200\n",
      "   macro avg       0.83      0.77      0.80       200\n",
      "weighted avg       0.79      0.79      0.79       200\n",
      "\n"
     ]
    }
   ],
   "source": [
    "from sklearn.linear_model import LogisticRegression\n",
    "\n",
    "sklearn_model = LogisticRegression(max_iter=1000, solver='newton-cg')\n",
    "sklearn_model.fit(X.loc[ix_train], y.loc[ix_train])\n",
    "sklearn_preds = sklearn_model.predict(X.loc[ix_test])\n",
    "print(classification_report(y.loc[ix_test], sklearn_preds))"
   ]
  }
 ],
 "metadata": {
  "kernelspec": {
   "display_name": "lr-focal-loss-Opjerf94-py3.10",
   "language": "python",
   "name": "python3"
  },
  "language_info": {
   "codemirror_mode": {
    "name": "ipython",
    "version": 3
   },
   "file_extension": ".py",
   "mimetype": "text/x-python",
   "name": "python",
   "nbconvert_exporter": "python",
   "pygments_lexer": "ipython3",
   "version": "3.10.12"
  }
 },
 "nbformat": 4,
 "nbformat_minor": 2
}
