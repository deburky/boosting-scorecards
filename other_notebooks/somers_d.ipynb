{
 "cells": [
  {
   "cell_type": "markdown",
   "metadata": {},
   "source": [
    "# Somers' D\n",
    "\n",
    "Author: https://github.com/deburky"
   ]
  },
  {
   "cell_type": "markdown",
   "metadata": {},
   "source": [
    "## Some basic examples"
   ]
  },
  {
   "cell_type": "code",
   "execution_count": 1,
   "metadata": {},
   "outputs": [
    {
     "name": "stdout",
     "output_type": "stream",
     "text": [
      "[[3 5 2]\n",
      " [1 7 6]]\n",
      "0.34285714285714286\n"
     ]
    }
   ],
   "source": [
    "from scipy.stats import somersd\n",
    "import numpy as np\n",
    "\n",
    "# Create the data\n",
    "data = [[3, 1],\n",
    "        [5, 7],\n",
    "        [2, 6]]\n",
    "\n",
    "# Convert the data to a NumPy array\n",
    "table = np.array(data).T\n",
    "print(table)\n",
    "\n",
    "res = somersd(table)\n",
    "print(res.statistic)\n",
    "# 0.2727272727272727"
   ]
  },
  {
   "cell_type": "code",
   "execution_count": 2,
   "metadata": {},
   "outputs": [
    {
     "name": "stdout",
     "output_type": "stream",
     "text": [
      "[[140 180  93]\n",
      " [  2  35  87]]\n",
      "0.5651\n"
     ]
    }
   ],
   "source": [
    "import numpy as np\n",
    "from scipy.stats import somersd\n",
    "\n",
    "# Create the data\n",
    "data = [[140, 2],\n",
    "        [180, 35],\n",
    "        [93, 87]]\n",
    "\n",
    "# Transpose the table\n",
    "table = np.array(data).T\n",
    "print(table)\n",
    "\n",
    "# For Dxy, y is the row, x is the column\n",
    "res = somersd(table)\n",
    "print(f\"{res.statistic:.4f}\")\n",
    "# [[140 180  93]\n",
    "# [  2  35  87]]\n",
    "# 0.5651"
   ]
  },
  {
   "cell_type": "code",
   "execution_count": 3,
   "metadata": {},
   "outputs": [
    {
     "name": "stdout",
     "output_type": "stream",
     "text": [
      "0.5651\n"
     ]
    }
   ],
   "source": [
    "import pandas as pd\n",
    "from sklearn.metrics import roc_auc_score\n",
    "\n",
    "# Define the distribution\n",
    "distribution = {\n",
    "    'Rating 1': [140, 2],\n",
    "    'Rating 2': [180, 35],\n",
    "    'Rating 3': [93, 87]\n",
    "}\n",
    "\n",
    "# Create the dataset\n",
    "data = []\n",
    "\n",
    "for rating, counts in distribution.items():\n",
    "    rating_value = int(rating.split()[1])\n",
    "    zeros = [0] * counts[0]\n",
    "    ones = [1] * counts[1]\n",
    "    data.extend([(rating_value, value) for value in zeros + ones])\n",
    "\n",
    "# Convert to DataFrame\n",
    "df = pd.DataFrame(data, columns=['Rating', 'Default'])\n",
    "somers_d = roc_auc_score(df['Default'], df['Rating']) * 2 - 1\n",
    "print(f\"{somers_d:.4f}\")\n",
    "# 0.5651"
   ]
  },
  {
   "cell_type": "markdown",
   "metadata": {},
   "source": [
    "## Implementation of Somers' D from scratch"
   ]
  },
  {
   "cell_type": "code",
   "execution_count": 4,
   "metadata": {},
   "outputs": [
    {
     "name": "stdout",
     "output_type": "stream",
     "text": [
      "Input matrix:\n",
      "[[140 180  93  65]\n",
      " [  2  35  87  55]]\n",
      "------------------------\n",
      "Concordant Pairs: 55455\n",
      "Discordant Pairs: 11861\n",
      "Total Pairs: 159230\n",
      "------------------------\n",
      "CPU times: user 204 µs, sys: 18 µs, total: 222 µs\n",
      "Wall time: 212 µs\n",
      "Somers D with numpy: 0.5095\n",
      "CPU times: user 285 µs, sys: 55 µs, total: 340 µs\n",
      "Wall time: 319 µs\n",
      "Somers D with scipy: 0.5095\n"
     ]
    }
   ],
   "source": [
    "import numpy as np\n",
    "from typing import Tuple\n",
    "import itertools\n",
    "\n",
    "def somers_d_from_matrix(matrix: np.ndarray) -> Tuple[float, int, int, int]:\n",
    "    \"\"\"\n",
    "    Calculate Somers' D from a given matrix.\n",
    "    \n",
    "    Parameters:\n",
    "    matrix (np.ndarray): a matrix where rows and columns represent different groups.\n",
    "\n",
    "    Returns:\n",
    "    Tuple[float, int, int, int]: Somers' D, number of concordant pairs, number of discordant pairs, and total pairs.\n",
    "    \n",
    "    Comments:\n",
    "    When we transpose the matrix, calculation becomes faster when we sum cols, not rows.\n",
    "    \"\"\"\n",
    "    \n",
    "    # ensure the matrix is a numpy array\n",
    "    matrix = np.array(matrix).astype(int)\n",
    "    \n",
    "    # Calculate concordant and discordant pairs\n",
    "    concordant_pairs = 0\n",
    "    discordant_pairs = 0\n",
    "    \n",
    "    for i, j in itertools.combinations(range(len(matrix)), 2):\n",
    "        concordant_pairs += np.sum(np.triu(np.outer(matrix[i], matrix[j]), 1))\n",
    "        discordant_pairs += np.sum(np.triu(np.outer(matrix[j], matrix[i]), 1))\n",
    "    \n",
    "    # Calculate total pairs\n",
    "    col_sums = np.sum(matrix, axis=0)\n",
    "    total_pairs = np.sum(np.triu(np.outer(col_sums, col_sums), 1))\n",
    "\n",
    "    # # # Calculate total pairs using row sums\n",
    "    # row_sums = np.sum(matrix, axis=1)\n",
    "    # total_pairs = np.sum(np.triu(np.outer(row_sums, row_sums), 1))\n",
    "    \n",
    "    somers_d = (concordant_pairs - discordant_pairs) / total_pairs\n",
    "\n",
    "    return somers_d, concordant_pairs, discordant_pairs, total_pairs\n",
    "\n",
    "# Define the matrix as per your example\n",
    "# matrix = np.array([\n",
    "#     [140, 180, 93],\n",
    "#     [2, 35, 87],\n",
    "#     [10, 12, 10]\n",
    "# ])\n",
    "\n",
    "matrix = np.array([\n",
    "    [140, 2],\n",
    "    [180, 35],\n",
    "    [93, 87],\n",
    "    [65, 55]\n",
    "]).T\n",
    "\n",
    "print(\"Input matrix:\")\n",
    "print(matrix)\n",
    "print('---' * 8)\n",
    "\n",
    "# Calculate Somers' D\n",
    "somers_d, concordant, discordant, total_pairs = somers_d_from_matrix(matrix)\n",
    "\n",
    "print(f\"Concordant Pairs: {concordant}\")\n",
    "print(f\"Discordant Pairs: {discordant}\")\n",
    "print(f\"Total Pairs: {total_pairs}\")\n",
    "print('---' * 8)\n",
    "\n",
    "%time somers_d = somers_d_from_matrix(matrix.T)[0]\n",
    "print(f\"Somers D with numpy: {somers_d:.4f}\")\n",
    "\n",
    "# Calculate the Somers' D statistic with scipy\n",
    "from scipy.stats import somersd\n",
    "%time somers_d_sc = somersd(matrix).statistic\n",
    "print(f\"Somers D with scipy: {somers_d_sc:.4f}\")"
   ]
  },
  {
   "cell_type": "markdown",
   "metadata": {},
   "source": [
    "## Binary problem"
   ]
  },
  {
   "cell_type": "code",
   "execution_count": 5,
   "metadata": {},
   "outputs": [
    {
     "name": "stdout",
     "output_type": "stream",
     "text": [
      "Somers' D (scipy): 0.6566\n",
      "Somers' D (numpy): 0.6566\n",
      "Somers' D (roc_auc): 0.6566\n"
     ]
    }
   ],
   "source": [
    "from sklearn.datasets import make_classification\n",
    "from sklearn.model_selection import train_test_split\n",
    "from sklearn.linear_model import LogisticRegression\n",
    "from scipy.stats import somersd\n",
    "\n",
    "X, y = make_classification(\n",
    "    n_samples=100, n_features=20, n_informative=10, n_classes=2, random_state=42\n",
    ")\n",
    "X_train, X_test, y_train, y_test = train_test_split(X, y, test_size=0.2, random_state=42)\n",
    "\n",
    "model = LogisticRegression(random_state=42).fit(X_train, y_train)\n",
    "y_pred = model.predict_proba(X_test)[:, 1]\n",
    "\n",
    "from scipy.stats import somersd\n",
    "\n",
    "table = pd.crosstab(y_test, y_pred).values\n",
    "somers_d = somersd(table).statistic # scipy\n",
    "somers_dxy = somers_d_from_matrix(table.T)[0] # numpy\n",
    "auc = roc_auc_score(y_test, y_pred) # sklearn\n",
    "somers_d_auc = 2 * auc - 1\n",
    "\n",
    "print(f\"Somers' D (scipy): {somers_d:.4f}\")\n",
    "print(f\"Somers' D (numpy): {somers_dxy:.4f}\")\n",
    "print(f\"Somers' D (roc_auc): {somers_d_auc:.4f}\")"
   ]
  },
  {
   "cell_type": "markdown",
   "metadata": {},
   "source": [
    "## Non-binary problem"
   ]
  },
  {
   "cell_type": "code",
   "execution_count": 6,
   "metadata": {},
   "outputs": [
    {
     "name": "stdout",
     "output_type": "stream",
     "text": [
      "CPU times: user 2.91 s, sys: 3.49 ms, total: 2.91 s\n",
      "Wall time: 2.92 s\n",
      "Somers' D (numpy): 0.6094\n",
      "CPU times: user 3.9 s, sys: 1.26 ms, total: 3.9 s\n",
      "Wall time: 3.91 s\n",
      "Somers' D (scipy): 0.6094\n"
     ]
    }
   ],
   "source": [
    "import pandas as pd\n",
    "import numpy as np\n",
    "from sklearn.model_selection import train_test_split\n",
    "import xgboost as xgb\n",
    "\n",
    "np.set_printoptions(formatter={'float': '{: 0.4f}'.format})\n",
    "\n",
    "lgd_dataset = pd.read_csv('lgd.csv')\n",
    "features = ['LTV', 'purpose1', 'event']\n",
    "target = 'lgd_time'\n",
    "\n",
    "# lgd_dataset = pd.read_csv('lgd_dataset.csv')\n",
    "# target = lgd_dataset.columns[-1]\n",
    "# features = lgd_dataset.columns[:-1]\n",
    "\n",
    "X = lgd_dataset[features]\n",
    "y = lgd_dataset[target]\n",
    "\n",
    "X_train, X_test, y_train, y_test = train_test_split(X, y, test_size=0.2, random_state=0)\n",
    "\n",
    "model = xgb.XGBRFRegressor(random_state=0)\n",
    "model.fit(X_train, y_train)\n",
    "predictions = model.predict(X_test)\n",
    "\n",
    "table = pd.crosstab(y_test, predictions).values\n",
    "\n",
    "%time somers_dxy = somers_d_from_matrix(table.T)[0]\n",
    "print(f\"Somers' D (numpy): {somers_dxy:.4f}\")\n",
    "\n",
    "# time_start = time.time()\n",
    "%time somers_d = somersd(table).statistic\n",
    "# time_scipy = time.time() - time_start\n",
    "print(f\"Somers' D (scipy): {somers_d:.4f}\")\n",
    "# print(f\"Time taken by SciPy: {time_scipy:.4f} seconds\")"
   ]
  },
  {
   "cell_type": "code",
   "execution_count": 7,
   "metadata": {},
   "outputs": [
    {
     "name": "stdout",
     "output_type": "stream",
     "text": [
      "Time scipy: 3.9258 seconds\n",
      "Somers' D (scipy): 0.6094\n",
      "Somers' D (numpy): 0.6094\n",
      "Time numpy: 3.1535 seconds\n",
      "Time improvement: 24%\n"
     ]
    }
   ],
   "source": [
    "from time import time\n",
    "\n",
    "table = pd.crosstab(y_test, predictions).values # 340 x 160\n",
    "\n",
    "time_start = time()\n",
    "somers_d = somersd(table).statistic\n",
    "time_scipy = time() - time_start\n",
    "print(f\"Time scipy: {time_scipy:.4f} seconds\")\n",
    "print(f\"Somers' D (scipy): {somers_d:.4f}\")\n",
    "\n",
    "time_start = time()\n",
    "somers_dxy = somers_d_from_matrix(table.T)[0]\n",
    "time_numpy = time() - time_start\n",
    "print(f\"Somers' D (numpy): {somers_dxy:.4f}\")\n",
    "print(f\"Time numpy: {time_numpy:.4f} seconds\")\n",
    "\n",
    "# calculate speed improvement\n",
    "difference = (time_scipy - time_numpy) / time_numpy\n",
    "print(f\"Time improvement: {difference:.0%}\")"
   ]
  },
  {
   "cell_type": "markdown",
   "metadata": {},
   "source": [
    "## Different models"
   ]
  },
  {
   "cell_type": "code",
   "execution_count": 18,
   "metadata": {},
   "outputs": [
    {
     "data": {
      "text/html": [
       "<pre style=\"white-space:pre;overflow-x:auto;line-height:normal;font-family:Menlo,'DejaVu Sans Mono',consolas,'Courier New',monospace\"><span style=\"font-style: italic\">        Model evaluation         </span>\n",
       "┏━━━━━━━━━━━━━━━━━━━━━━┳━━━━━━━━┓\n",
       "┃<span style=\"font-weight: bold\">                Model </span>┃<span style=\"font-weight: bold\"> Dxy    </span>┃\n",
       "┡━━━━━━━━━━━━━━━━━━━━━━╇━━━━━━━━┩\n",
       "│<span style=\"color: #5f5fff; text-decoration-color: #5f5fff\">                  MLP </span>│<span style=\"color: #5f5fff; text-decoration-color: #5f5fff\"> 0.6133 </span>│\n",
       "│<span style=\"color: #5f5fff; text-decoration-color: #5f5fff\"> HistGradientBoosting </span>│<span style=\"color: #5f5fff; text-decoration-color: #5f5fff\"> 0.6112 </span>│\n",
       "│<span style=\"color: #5f5fff; text-decoration-color: #5f5fff\">    XGB Random Forest </span>│<span style=\"color: #5f5fff; text-decoration-color: #5f5fff\"> 0.6094 </span>│\n",
       "│<span style=\"color: #5f5fff; text-decoration-color: #5f5fff\">             CatBoost </span>│<span style=\"color: #5f5fff; text-decoration-color: #5f5fff\"> 0.6055 </span>│\n",
       "│<span style=\"color: #5f5fff; text-decoration-color: #5f5fff\">                Ridge </span>│<span style=\"color: #5f5fff; text-decoration-color: #5f5fff\"> 0.5978 </span>│\n",
       "│<span style=\"color: #5f5fff; text-decoration-color: #5f5fff\">               Linear </span>│<span style=\"color: #5f5fff; text-decoration-color: #5f5fff\"> 0.5977 </span>│\n",
       "│<span style=\"color: #5f5fff; text-decoration-color: #5f5fff\">             LightGBM </span>│<span style=\"color: #5f5fff; text-decoration-color: #5f5fff\"> 0.5955 </span>│\n",
       "│<span style=\"color: #5f5fff; text-decoration-color: #5f5fff\">              XGBoost </span>│<span style=\"color: #5f5fff; text-decoration-color: #5f5fff\"> 0.5942 </span>│\n",
       "│<span style=\"color: #5f5fff; text-decoration-color: #5f5fff\">        Random Forest </span>│<span style=\"color: #5f5fff; text-decoration-color: #5f5fff\"> 0.5796 </span>│\n",
       "└──────────────────────┴────────┘\n",
       "</pre>\n"
      ],
      "text/plain": [
       "\u001b[3m        Model evaluation         \u001b[0m\n",
       "┏━━━━━━━━━━━━━━━━━━━━━━┳━━━━━━━━┓\n",
       "┃\u001b[1m \u001b[0m\u001b[1m               Model\u001b[0m\u001b[1m \u001b[0m┃\u001b[1m \u001b[0m\u001b[1mDxy   \u001b[0m\u001b[1m \u001b[0m┃\n",
       "┡━━━━━━━━━━━━━━━━━━━━━━╇━━━━━━━━┩\n",
       "│\u001b[38;5;63m \u001b[0m\u001b[38;5;63m                 MLP\u001b[0m\u001b[38;5;63m \u001b[0m│\u001b[38;5;63m \u001b[0m\u001b[38;5;63m0.6133\u001b[0m\u001b[38;5;63m \u001b[0m│\n",
       "│\u001b[38;5;63m \u001b[0m\u001b[38;5;63mHistGradientBoosting\u001b[0m\u001b[38;5;63m \u001b[0m│\u001b[38;5;63m \u001b[0m\u001b[38;5;63m0.6112\u001b[0m\u001b[38;5;63m \u001b[0m│\n",
       "│\u001b[38;5;63m \u001b[0m\u001b[38;5;63m   XGB Random Forest\u001b[0m\u001b[38;5;63m \u001b[0m│\u001b[38;5;63m \u001b[0m\u001b[38;5;63m0.6094\u001b[0m\u001b[38;5;63m \u001b[0m│\n",
       "│\u001b[38;5;63m \u001b[0m\u001b[38;5;63m            CatBoost\u001b[0m\u001b[38;5;63m \u001b[0m│\u001b[38;5;63m \u001b[0m\u001b[38;5;63m0.6055\u001b[0m\u001b[38;5;63m \u001b[0m│\n",
       "│\u001b[38;5;63m \u001b[0m\u001b[38;5;63m               Ridge\u001b[0m\u001b[38;5;63m \u001b[0m│\u001b[38;5;63m \u001b[0m\u001b[38;5;63m0.5978\u001b[0m\u001b[38;5;63m \u001b[0m│\n",
       "│\u001b[38;5;63m \u001b[0m\u001b[38;5;63m              Linear\u001b[0m\u001b[38;5;63m \u001b[0m│\u001b[38;5;63m \u001b[0m\u001b[38;5;63m0.5977\u001b[0m\u001b[38;5;63m \u001b[0m│\n",
       "│\u001b[38;5;63m \u001b[0m\u001b[38;5;63m            LightGBM\u001b[0m\u001b[38;5;63m \u001b[0m│\u001b[38;5;63m \u001b[0m\u001b[38;5;63m0.5955\u001b[0m\u001b[38;5;63m \u001b[0m│\n",
       "│\u001b[38;5;63m \u001b[0m\u001b[38;5;63m             XGBoost\u001b[0m\u001b[38;5;63m \u001b[0m│\u001b[38;5;63m \u001b[0m\u001b[38;5;63m0.5942\u001b[0m\u001b[38;5;63m \u001b[0m│\n",
       "│\u001b[38;5;63m \u001b[0m\u001b[38;5;63m       Random Forest\u001b[0m\u001b[38;5;63m \u001b[0m│\u001b[38;5;63m \u001b[0m\u001b[38;5;63m0.5796\u001b[0m\u001b[38;5;63m \u001b[0m│\n",
       "└──────────────────────┴────────┘\n"
      ]
     },
     "metadata": {},
     "output_type": "display_data"
    },
    {
     "name": "stdout",
     "output_type": "stream",
     "text": [
      "CPU times: user 2min 30s, sys: 14.6 s, total: 2min 45s\n",
      "Wall time: 2min 33s\n"
     ]
    }
   ],
   "source": [
    "%%time\n",
    "from sklearn.ensemble import RandomForestRegressor, HistGradientBoostingRegressor\n",
    "import xgboost as xgb\n",
    "import catboost as ctb\n",
    "import lightgbm as lgb\n",
    "from sklearn.linear_model import LinearRegression\n",
    "from sklearn.linear_model import Ridge\n",
    "from sklearn.neural_network import MLPRegressor\n",
    "from rich.table import Table\n",
    "\n",
    "\n",
    "def somers_d_score(X, y):\n",
    "    \"\"\"\n",
    "    Function to calculate Somers' D from a matrix.\n",
    "    We need to have y as the row and x as the column.\n",
    "    To speed up, we use a transpose of the matrix.\n",
    "    \"\"\"\n",
    "    matrix = pd.crosstab(X, y).values\n",
    "    return somers_d_from_matrix(matrix.T)[0]\n",
    "\n",
    "clfs = {\n",
    "    'Linear': LinearRegression(),\n",
    "    'Ridge': Ridge(random_state=0),\n",
    "    'MLP': MLPRegressor(random_state=0),\n",
    "    'Random Forest': RandomForestRegressor(random_state=0),\n",
    "    'XGB Random Forest': xgb.XGBRFRegressor(random_state=0),\n",
    "    'HistGradientBoosting': HistGradientBoostingRegressor(random_state=0),\n",
    "    'XGBoost': xgb.XGBRegressor(random_state=0),\n",
    "    'LightGBM': lgb.LGBMRegressor(verbose=0, random_state=0),\n",
    "    'CatBoost': ctb.CatBoostRegressor(random_state=0, verbose=0),\n",
    "}\n",
    "\n",
    "results = {'model': [], 'somers_d': []}\n",
    "\n",
    "for name, model in clfs.items():\n",
    "    model.fit(X_train, y_train)\n",
    "    predictions = model.predict(X_test)\n",
    "    preds_and_target = pd.DataFrame({'LGD': y_test, 'pred': predictions})\n",
    "    somers_d_model = somers_d_score(preds_and_target['LGD'], preds_and_target['pred'])\n",
    "    results['model'].append(name)\n",
    "    results['somers_d'].append(somers_d_model)\n",
    "\n",
    "results_df = pd.DataFrame(results)\n",
    "results_df = results_df.sort_values(by='somers_d', ascending=False)\n",
    "\n",
    "# show Rich table with results\n",
    "table = Table(title=\"Model evaluation\")\n",
    "table.add_column(\"Model\", justify=\"right\", style=\"royal_blue1\", no_wrap=True)\n",
    "table.add_column(\"Dxy\", style=\"royal_blue1\")\n",
    "\n",
    "for model, somers_d in zip(results_df['model'], results_df['somers_d']):\n",
    "    table.add_row(model, f\"{somers_d:.4f}\")\n",
    "    \n",
    "display(table)"
   ]
  },
  {
   "cell_type": "code",
   "execution_count": 19,
   "metadata": {},
   "outputs": [
    {
     "data": {
      "text/html": [
       "<pre style=\"white-space:pre;overflow-x:auto;line-height:normal;font-family:Menlo,'DejaVu Sans Mono',consolas,'Courier New',monospace\"><span style=\"font-style: italic\">       Model evaluation       </span>\n",
       "┏━━━━━━━━━━━━━━━━━━━┳━━━━━━━━┓\n",
       "┃<span style=\"font-weight: bold\">             Model </span>┃<span style=\"font-weight: bold\"> Dxy    </span>┃\n",
       "┡━━━━━━━━━━━━━━━━━━━╇━━━━━━━━┩\n",
       "│<span style=\"color: #5f5fff; text-decoration-color: #5f5fff\">               MLP </span>│<span style=\"color: #5f5fff; text-decoration-color: #5f5fff\"> 0.6133 </span>│\n",
       "│<span style=\"color: #5f5fff; text-decoration-color: #5f5fff\"> Gradient Boosting </span>│<span style=\"color: #5f5fff; text-decoration-color: #5f5fff\"> 0.6112 </span>│\n",
       "│<span style=\"color: #5f5fff; text-decoration-color: #5f5fff\"> XGB Random Forest </span>│<span style=\"color: #5f5fff; text-decoration-color: #5f5fff\"> 0.6094 </span>│\n",
       "│<span style=\"color: #5f5fff; text-decoration-color: #5f5fff\">          CatBoost </span>│<span style=\"color: #5f5fff; text-decoration-color: #5f5fff\"> 0.6055 </span>│\n",
       "│<span style=\"color: #5f5fff; text-decoration-color: #5f5fff\">             Ridge </span>│<span style=\"color: #5f5fff; text-decoration-color: #5f5fff\"> 0.5978 </span>│\n",
       "│<span style=\"color: #5f5fff; text-decoration-color: #5f5fff\">            Linear </span>│<span style=\"color: #5f5fff; text-decoration-color: #5f5fff\"> 0.5977 </span>│\n",
       "│<span style=\"color: #5f5fff; text-decoration-color: #5f5fff\">          LightGBM </span>│<span style=\"color: #5f5fff; text-decoration-color: #5f5fff\"> 0.5955 </span>│\n",
       "│<span style=\"color: #5f5fff; text-decoration-color: #5f5fff\">           XGBoost </span>│<span style=\"color: #5f5fff; text-decoration-color: #5f5fff\"> 0.5942 </span>│\n",
       "│<span style=\"color: #5f5fff; text-decoration-color: #5f5fff\">     Random Forest </span>│<span style=\"color: #5f5fff; text-decoration-color: #5f5fff\"> 0.5796 </span>│\n",
       "└───────────────────┴────────┘\n",
       "</pre>\n"
      ],
      "text/plain": [
       "\u001b[3m       Model evaluation       \u001b[0m\n",
       "┏━━━━━━━━━━━━━━━━━━━┳━━━━━━━━┓\n",
       "┃\u001b[1m \u001b[0m\u001b[1m            Model\u001b[0m\u001b[1m \u001b[0m┃\u001b[1m \u001b[0m\u001b[1mDxy   \u001b[0m\u001b[1m \u001b[0m┃\n",
       "┡━━━━━━━━━━━━━━━━━━━╇━━━━━━━━┩\n",
       "│\u001b[38;5;63m \u001b[0m\u001b[38;5;63m              MLP\u001b[0m\u001b[38;5;63m \u001b[0m│\u001b[38;5;63m \u001b[0m\u001b[38;5;63m0.6133\u001b[0m\u001b[38;5;63m \u001b[0m│\n",
       "│\u001b[38;5;63m \u001b[0m\u001b[38;5;63mGradient Boosting\u001b[0m\u001b[38;5;63m \u001b[0m│\u001b[38;5;63m \u001b[0m\u001b[38;5;63m0.6112\u001b[0m\u001b[38;5;63m \u001b[0m│\n",
       "│\u001b[38;5;63m \u001b[0m\u001b[38;5;63mXGB Random Forest\u001b[0m\u001b[38;5;63m \u001b[0m│\u001b[38;5;63m \u001b[0m\u001b[38;5;63m0.6094\u001b[0m\u001b[38;5;63m \u001b[0m│\n",
       "│\u001b[38;5;63m \u001b[0m\u001b[38;5;63m         CatBoost\u001b[0m\u001b[38;5;63m \u001b[0m│\u001b[38;5;63m \u001b[0m\u001b[38;5;63m0.6055\u001b[0m\u001b[38;5;63m \u001b[0m│\n",
       "│\u001b[38;5;63m \u001b[0m\u001b[38;5;63m            Ridge\u001b[0m\u001b[38;5;63m \u001b[0m│\u001b[38;5;63m \u001b[0m\u001b[38;5;63m0.5978\u001b[0m\u001b[38;5;63m \u001b[0m│\n",
       "│\u001b[38;5;63m \u001b[0m\u001b[38;5;63m           Linear\u001b[0m\u001b[38;5;63m \u001b[0m│\u001b[38;5;63m \u001b[0m\u001b[38;5;63m0.5977\u001b[0m\u001b[38;5;63m \u001b[0m│\n",
       "│\u001b[38;5;63m \u001b[0m\u001b[38;5;63m         LightGBM\u001b[0m\u001b[38;5;63m \u001b[0m│\u001b[38;5;63m \u001b[0m\u001b[38;5;63m0.5955\u001b[0m\u001b[38;5;63m \u001b[0m│\n",
       "│\u001b[38;5;63m \u001b[0m\u001b[38;5;63m          XGBoost\u001b[0m\u001b[38;5;63m \u001b[0m│\u001b[38;5;63m \u001b[0m\u001b[38;5;63m0.5942\u001b[0m\u001b[38;5;63m \u001b[0m│\n",
       "│\u001b[38;5;63m \u001b[0m\u001b[38;5;63m    Random Forest\u001b[0m\u001b[38;5;63m \u001b[0m│\u001b[38;5;63m \u001b[0m\u001b[38;5;63m0.5796\u001b[0m\u001b[38;5;63m \u001b[0m│\n",
       "└───────────────────┴────────┘\n"
      ]
     },
     "metadata": {},
     "output_type": "display_data"
    },
    {
     "name": "stdout",
     "output_type": "stream",
     "text": [
      "CPU times: user 3min 7s, sys: 7.76 s, total: 3min 15s\n",
      "Wall time: 3min 3s\n"
     ]
    }
   ],
   "source": [
    "%%time\n",
    "from sklearn.ensemble import RandomForestRegressor, HistGradientBoostingRegressor\n",
    "import xgboost as xgb\n",
    "import catboost as ctb\n",
    "import lightgbm as lgb\n",
    "from sklearn.linear_model import LinearRegression\n",
    "from sklearn.linear_model import Ridge\n",
    "from sklearn.neural_network import MLPRegressor\n",
    "from rich.table import Table\n",
    "\n",
    "from scipy.stats import somersd\n",
    "\n",
    "clfs = {\n",
    "    'Linear': LinearRegression(),\n",
    "    'Ridge': Ridge(random_state=0),\n",
    "    'MLP': MLPRegressor(random_state=0),\n",
    "    'Random Forest': RandomForestRegressor(random_state=0),\n",
    "    'XGB Random Forest': xgb.XGBRFRegressor(random_state=0),\n",
    "    'Gradient Boosting': HistGradientBoostingRegressor(random_state=0),\n",
    "    'XGBoost': xgb.XGBRegressor(random_state=0),\n",
    "    'LightGBM': lgb.LGBMRegressor(verbose=0, random_state=0),\n",
    "    'CatBoost': ctb.CatBoostRegressor(random_state=0, verbose=0),\n",
    "}\n",
    "\n",
    "results = {'model': [], 'somers_d': []}\n",
    "\n",
    "for name, model in clfs.items():\n",
    "    model.fit(X_train, y_train)\n",
    "    predictions = model.predict(X_test)\n",
    "    preds_and_target = pd.DataFrame({'LGD': y_test, 'pred': predictions})\n",
    "    matrix = pd.crosstab(preds_and_target['LGD'], preds_and_target['pred']).values\n",
    "    somers_d_model = somersd(matrix).statistic\n",
    "    results['model'].append(name)\n",
    "    results['somers_d'].append(somers_d_model)\n",
    "\n",
    "results_df = pd.DataFrame(results)\n",
    "results_df = results_df.sort_values(by='somers_d', ascending=False)\n",
    "\n",
    "# show Rich table with results\n",
    "table = Table(title=\"Model evaluation\")\n",
    "table.add_column(\"Model\", justify=\"right\", style=\"royal_blue1\", no_wrap=True)\n",
    "table.add_column(\"Dxy\", style=\"royal_blue1\")\n",
    "\n",
    "for model, somers_d in zip(results_df['model'], results_df['somers_d']):\n",
    "    table.add_row(model, f\"{somers_d:.4f}\")\n",
    "    \n",
    "display(table)"
   ]
  },
  {
   "cell_type": "markdown",
   "metadata": {},
   "source": [
    "## OptBinning example\n",
    "\n",
    "OptBinning allows to work with continuous outcomes, here we measure Somers' D for only one variable."
   ]
  },
  {
   "cell_type": "code",
   "execution_count": 65,
   "metadata": {},
   "outputs": [
    {
     "name": "stdout",
     "output_type": "stream",
     "text": [
      "Somers' D (scipy): 0.2625\n",
      "Somers' D (numpy): 0.2625\n"
     ]
    }
   ],
   "source": [
    "from optbinning import ContinuousOptimalBinning\n",
    "\n",
    "variable_name = 'LTV'\n",
    "x = X_train[variable_name].values\n",
    "y = y_train.values\n",
    "\n",
    "optb = ContinuousOptimalBinning(\n",
    "    name=variable_name,\n",
    "    dtype=\"numerical\",\n",
    "    min_bin_size=1e-1,\n",
    "    max_n_bins=5\n",
    ")\n",
    "\n",
    "optb.fit(x, y)\n",
    "\n",
    "# build a binning table\n",
    "binning_table = optb.binning_table.build()\n",
    "predicted_scores = optb.transform(X_test[variable_name])\n",
    "predicted_scores = pd.Series(predicted_scores, name='lgd_pred', index=y_test.index)\n",
    "table = pd.crosstab(y_test, predicted_scores).values\n",
    "\n",
    "somers_d = somersd(table).statistic\n",
    "print(f\"Somers' D (scipy): {somers_d:.4f}\")\n",
    "\n",
    "somers_dxy = somers_d_from_matrix(table.T)[0]\n",
    "print(f\"Somers' D (numpy): {somers_dxy:.4f}\")"
   ]
  },
  {
   "cell_type": "code",
   "execution_count": 66,
   "metadata": {},
   "outputs": [
    {
     "data": {
      "text/html": [
       "<div>\n",
       "<style scoped>\n",
       "    .dataframe tbody tr th:only-of-type {\n",
       "        vertical-align: middle;\n",
       "    }\n",
       "\n",
       "    .dataframe tbody tr th {\n",
       "        vertical-align: top;\n",
       "    }\n",
       "\n",
       "    .dataframe thead th {\n",
       "        text-align: right;\n",
       "    }\n",
       "</style>\n",
       "<table border=\"1\" class=\"dataframe\">\n",
       "  <thead>\n",
       "    <tr style=\"text-align: right;\">\n",
       "      <th>lgd_pred</th>\n",
       "      <th>0.091234</th>\n",
       "      <th>0.130317</th>\n",
       "      <th>0.190938</th>\n",
       "      <th>0.420531</th>\n",
       "      <th>0.545768</th>\n",
       "    </tr>\n",
       "    <tr>\n",
       "      <th>lgd_time</th>\n",
       "      <th></th>\n",
       "      <th></th>\n",
       "      <th></th>\n",
       "      <th></th>\n",
       "      <th></th>\n",
       "    </tr>\n",
       "  </thead>\n",
       "  <tbody>\n",
       "    <tr>\n",
       "      <th>0.000010</th>\n",
       "      <td>41</td>\n",
       "      <td>21</td>\n",
       "      <td>71</td>\n",
       "      <td>10</td>\n",
       "      <td>6</td>\n",
       "    </tr>\n",
       "    <tr>\n",
       "      <th>0.000018</th>\n",
       "      <td>1</td>\n",
       "      <td>0</td>\n",
       "      <td>0</td>\n",
       "      <td>0</td>\n",
       "      <td>0</td>\n",
       "    </tr>\n",
       "    <tr>\n",
       "      <th>0.000135</th>\n",
       "      <td>0</td>\n",
       "      <td>0</td>\n",
       "      <td>1</td>\n",
       "      <td>0</td>\n",
       "      <td>0</td>\n",
       "    </tr>\n",
       "    <tr>\n",
       "      <th>0.000717</th>\n",
       "      <td>0</td>\n",
       "      <td>0</td>\n",
       "      <td>1</td>\n",
       "      <td>0</td>\n",
       "      <td>0</td>\n",
       "    </tr>\n",
       "    <tr>\n",
       "      <th>0.001137</th>\n",
       "      <td>1</td>\n",
       "      <td>0</td>\n",
       "      <td>0</td>\n",
       "      <td>0</td>\n",
       "      <td>0</td>\n",
       "    </tr>\n",
       "    <tr>\n",
       "      <th>...</th>\n",
       "      <td>...</td>\n",
       "      <td>...</td>\n",
       "      <td>...</td>\n",
       "      <td>...</td>\n",
       "      <td>...</td>\n",
       "    </tr>\n",
       "    <tr>\n",
       "      <th>0.994413</th>\n",
       "      <td>0</td>\n",
       "      <td>0</td>\n",
       "      <td>0</td>\n",
       "      <td>0</td>\n",
       "      <td>1</td>\n",
       "    </tr>\n",
       "    <tr>\n",
       "      <th>0.994834</th>\n",
       "      <td>0</td>\n",
       "      <td>0</td>\n",
       "      <td>0</td>\n",
       "      <td>1</td>\n",
       "      <td>0</td>\n",
       "    </tr>\n",
       "    <tr>\n",
       "      <th>0.995180</th>\n",
       "      <td>0</td>\n",
       "      <td>0</td>\n",
       "      <td>1</td>\n",
       "      <td>0</td>\n",
       "      <td>0</td>\n",
       "    </tr>\n",
       "    <tr>\n",
       "      <th>0.999873</th>\n",
       "      <td>0</td>\n",
       "      <td>0</td>\n",
       "      <td>0</td>\n",
       "      <td>1</td>\n",
       "      <td>0</td>\n",
       "    </tr>\n",
       "    <tr>\n",
       "      <th>0.999990</th>\n",
       "      <td>2</td>\n",
       "      <td>1</td>\n",
       "      <td>10</td>\n",
       "      <td>6</td>\n",
       "      <td>3</td>\n",
       "    </tr>\n",
       "  </tbody>\n",
       "</table>\n",
       "<p>340 rows × 5 columns</p>\n",
       "</div>"
      ],
      "text/plain": [
       "lgd_pred  0.091234  0.130317  0.190938  0.420531  0.545768\n",
       "lgd_time                                                  \n",
       "0.000010        41        21        71        10         6\n",
       "0.000018         1         0         0         0         0\n",
       "0.000135         0         0         1         0         0\n",
       "0.000717         0         0         1         0         0\n",
       "0.001137         1         0         0         0         0\n",
       "...            ...       ...       ...       ...       ...\n",
       "0.994413         0         0         0         0         1\n",
       "0.994834         0         0         0         1         0\n",
       "0.995180         0         0         1         0         0\n",
       "0.999873         0         0         0         1         0\n",
       "0.999990         2         1        10         6         3\n",
       "\n",
       "[340 rows x 5 columns]"
      ]
     },
     "execution_count": 66,
     "metadata": {},
     "output_type": "execute_result"
    }
   ],
   "source": [
    "pd.crosstab(y_test, predicted_scores)"
   ]
  }
 ],
 "metadata": {
  "kernelspec": {
   "display_name": "Python 3 (ipykernel)",
   "language": "python",
   "name": "python3"
  },
  "language_info": {
   "codemirror_mode": {
    "name": "ipython",
    "version": 3
   },
   "file_extension": ".py",
   "mimetype": "text/x-python",
   "name": "python",
   "nbconvert_exporter": "python",
   "pygments_lexer": "ipython3",
   "version": "3.10.12"
  }
 },
 "nbformat": 4,
 "nbformat_minor": 4
}
