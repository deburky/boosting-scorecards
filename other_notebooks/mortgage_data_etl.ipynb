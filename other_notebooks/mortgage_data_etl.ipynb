{
 "cells": [
  {
   "cell_type": "markdown",
   "metadata": {},
   "source": [
    "## Fannie Mae Loan Performance Data"
   ]
  },
  {
   "cell_type": "markdown",
   "metadata": {},
   "source": [
    "### csv to parquet"
   ]
  },
  {
   "cell_type": "code",
   "execution_count": 1,
   "metadata": {},
   "outputs": [],
   "source": [
    "import os\n",
    "import time\n",
    "import pandas as pd\n",
    "import polars as pl\n",
    "import pyarrow as pa\n",
    "import pyarrow.parquet as pq"
   ]
  },
  {
   "cell_type": "code",
   "execution_count": 2,
   "metadata": {},
   "outputs": [],
   "source": [
    "csv_folder = f\"{os.getcwd()}/csv\"\n",
    "csv_files = [os.path.splitext(f)[0] for f in os.listdir(csv_folder) if f.endswith(\".csv\")]\n",
    "csv_files.sort()\n",
    "\n",
    "parquet_folder = os.path.join(os.getcwd(), \"parquet\")\n",
    "os.makedirs(parquet_folder, exist_ok=True)"
   ]
  },
  {
   "cell_type": "code",
   "execution_count": 3,
   "metadata": {},
   "outputs": [],
   "source": [
    "col_names = [\n",
    "    \"POOL_ID\",\n",
    "    \"LOAN_ID\",\n",
    "    \"ACT_PERIOD\",\n",
    "    \"CHANNEL\",\n",
    "    \"SELLER\",\n",
    "    \"SERVICER\",\n",
    "    \"MASTER_SERVICER\",\n",
    "    \"ORIG_RATE\",\n",
    "    \"CURR_RATE\",\n",
    "    \"ORIG_UPB\",\n",
    "    \"ISSUANCE_UPB\",\n",
    "    \"CURRENT_UPB\",\n",
    "    \"ORIG_TERM\",\n",
    "    \"ORIG_DATE\",\n",
    "    \"FIRST_PAY\",\n",
    "    \"LOAN_AGE\",\n",
    "    \"REM_MONTHS\",\n",
    "    \"ADJ_REM_MONTHS\",\n",
    "    \"MATR_DT\",\n",
    "    \"OLTV\",\n",
    "    \"OCLTV\",\n",
    "    \"NUM_BO\",\n",
    "    \"DTI\",\n",
    "    \"CSCORE_B\",\n",
    "    \"CSCORE_C\",\n",
    "    \"FIRST_FLAG\",\n",
    "    \"PURPOSE\",\n",
    "    \"PROP\",\n",
    "    \"NO_UNITS\",\n",
    "    \"OCC_STAT\",\n",
    "    \"STATE\",\n",
    "    \"MSA\",\n",
    "    \"ZIP\",\n",
    "    \"MI_PCT\",\n",
    "    \"PRODUCT\",\n",
    "    \"PPMT_FLG\",\n",
    "    \"IO\",\n",
    "    \"FIRST_PAY_IO\",\n",
    "    \"MNTHS_TO_AMTZ_IO\",\n",
    "    \"DLQ_STATUS\",\n",
    "    \"PMT_HISTORY\",\n",
    "    \"MOD_FLAG\",\n",
    "    \"MI_CANCEL_FLAG\",\n",
    "    \"Zero_Bal_Code\",\n",
    "    \"ZB_DTE\",\n",
    "    \"LAST_UPB\",\n",
    "    \"RPRCH_DTE\",\n",
    "    \"CURR_SCHD_PRNCPL\",\n",
    "    \"TOT_SCHD_PRNCPL\",\n",
    "    \"UNSCHD_PRNCPL_CURR\",\n",
    "    \"LAST_PAID_INSTALLMENT_DATE\",\n",
    "    \"FORECLOSURE_DATE\",\n",
    "    \"DISPOSITION_DATE\",\n",
    "    \"FORECLOSURE_COSTS\",\n",
    "    \"PROPERTY_PRESERVATION_AND_REPAIR_COSTS\",\n",
    "    \"ASSET_RECOVERY_COSTS\",\n",
    "    \"MISCELLANEOUS_HOLDING_EXPENSES_AND_CREDITS\",\n",
    "    \"ASSOCIATED_TAXES_FOR_HOLDING_PROPERTY\",\n",
    "    \"NET_SALES_PROCEEDS\",\n",
    "    \"CREDIT_ENHANCEMENT_PROCEEDS\",\n",
    "    \"REPURCHASES_MAKE_WHOLE_PROCEEDS\",\n",
    "    \"OTHER_FORECLOSURE_PROCEEDS\",\n",
    "    \"NON_INTEREST_BEARING_UPB\",\n",
    "    \"PRINCIPAL_FORGIVENESS_AMOUNT\",\n",
    "    \"ORIGINAL_LIST_START_DATE\",\n",
    "    \"ORIGINAL_LIST_PRICE\",\n",
    "    \"CURRENT_LIST_START_DATE\",\n",
    "    \"CURRENT_LIST_PRICE\",\n",
    "    \"ISSUE_SCOREB\",\n",
    "    \"ISSUE_SCOREC\",\n",
    "    \"CURR_SCOREB\",\n",
    "    \"CURR_SCOREC\",\n",
    "    \"MI_TYPE\",\n",
    "    \"SERV_IND\",\n",
    "    \"CURRENT_PERIOD_MODIFICATION_LOSS_AMOUNT\",\n",
    "    \"CUMULATIVE_MODIFICATION_LOSS_AMOUNT\",\n",
    "    \"CURRENT_PERIOD_CREDIT_EVENT_NET_GAIN_OR_LOSS\",\n",
    "    \"CUMULATIVE_CREDIT_EVENT_NET_GAIN_OR_LOSS\",\n",
    "    \"HOMEREADY_PROGRAM_INDICATOR\",\n",
    "    \"FORECLOSURE_PRINCIPAL_WRITE_OFF_AMOUNT\",\n",
    "    \"RELOCATION_MORTGAGE_INDICATOR\",\n",
    "    \"ZERO_BALANCE_CODE_CHANGE_DATE\",\n",
    "    \"LOAN_HOLDBACK_INDICATOR\",\n",
    "    \"LOAN_HOLDBACK_EFFECTIVE_DATE\",\n",
    "    \"DELINQUENT_ACCRUED_INTEREST\",\n",
    "    \"PROPERTY_INSPECTION_WAIVER_INDICATOR\",\n",
    "    \"HIGH_BALANCE_LOAN_INDICATOR\",\n",
    "    \"ARM_5_YR_INDICATOR\",\n",
    "    \"ARM_PRODUCT_TYPE\",\n",
    "    \"MONTHS_UNTIL_FIRST_PAYMENT_RESET\",\n",
    "    \"MONTHS_BETWEEN_SUBSEQUENT_PAYMENT_RESET\",\n",
    "    \"INTEREST_RATE_CHANGE_DATE\",\n",
    "    \"PAYMENT_CHANGE_DATE\",\n",
    "    \"ARM_INDEX\",\n",
    "    \"ARM_CAP_STRUCTURE\",\n",
    "    \"INITIAL_INTEREST_RATE_CAP\",\n",
    "    \"PERIODIC_INTEREST_RATE_CAP\",\n",
    "    \"LIFETIME_INTEREST_RATE_CAP\",\n",
    "    \"MARGIN\",\n",
    "    \"BALLOON_INDICATOR\",\n",
    "    \"PLAN_NUMBER\",\n",
    "    \"FORBEARANCE_INDICATOR\",\n",
    "    \"HIGH_LOAN_TO_VALUE_HLTV_REFINANCE_OPTION_INDICATOR\",\n",
    "    \"DEAL_NAME\",\n",
    "    \"RE_PROCS_FLAG\",\n",
    "    \"ADR_TYPE\",\n",
    "    \"ADR_COUNT\",\n",
    "    \"ADR_UPB\",\n",
    "]"
   ]
  },
  {
   "cell_type": "code",
   "execution_count": 45,
   "metadata": {},
   "outputs": [
    {
     "data": {
      "application/vnd.jupyter.widget-view+json": {
       "model_id": "4397982140754961b5e8debbe097495f",
       "version_major": 2,
       "version_minor": 0
      },
      "text/plain": [
       "Processing:   0%|          | 0/29 [00:00<?, ?it/s]"
      ]
     },
     "metadata": {},
     "output_type": "display_data"
    },
    {
     "name": "stdout",
     "output_type": "stream",
     "text": [
      "Processing time: 1930.97 seconds\n"
     ]
    }
   ],
   "source": [
    "start_time = time.time()\n",
    "    \n",
    "for csv_file in csv_files:\n",
    "\n",
    "    df = pl.read_csv(\n",
    "        f\"{csv_folder}/{csv_file}.csv\",\n",
    "        infer_schema_length=10000,\n",
    "        separator=\"|\",\n",
    "        truncate_ragged_lines=True,\n",
    "        has_header=False,\n",
    "        ignore_errors=True,\n",
    "    )\n",
    "\n",
    "    parquet_file = os.path.join(parquet_folder, f\"{csv_file}.parquet\")\n",
    "    df.write_parquet(parquet_file)\n",
    "\n",
    "end_time = time.time()\n",
    "processing_time = end_time - start_time\n",
    "print(f\"Processing time: {processing_time:.2f} seconds\")"
   ]
  },
  {
   "cell_type": "markdown",
   "metadata": {},
   "source": [
    "### DuckDB"
   ]
  },
  {
   "cell_type": "code",
   "execution_count": 11,
   "metadata": {},
   "outputs": [],
   "source": [
    "import duckdb"
   ]
  },
  {
   "cell_type": "code",
   "execution_count": 22,
   "metadata": {},
   "outputs": [
    {
     "data": {
      "text/html": [
       "<div>\n",
       "<style scoped>\n",
       "    .dataframe tbody tr th:only-of-type {\n",
       "        vertical-align: middle;\n",
       "    }\n",
       "\n",
       "    .dataframe tbody tr th {\n",
       "        vertical-align: top;\n",
       "    }\n",
       "\n",
       "    .dataframe thead th {\n",
       "        text-align: right;\n",
       "    }\n",
       "</style>\n",
       "<table border=\"1\" class=\"dataframe\">\n",
       "  <thead>\n",
       "    <tr style=\"text-align: right;\">\n",
       "      <th></th>\n",
       "      <th>column_1</th>\n",
       "      <th>column_2</th>\n",
       "      <th>column_3</th>\n",
       "      <th>column_4</th>\n",
       "      <th>column_5</th>\n",
       "      <th>column_6</th>\n",
       "      <th>column_7</th>\n",
       "      <th>column_8</th>\n",
       "      <th>column_9</th>\n",
       "      <th>column_10</th>\n",
       "      <th>...</th>\n",
       "      <th>column_99</th>\n",
       "      <th>column_100</th>\n",
       "      <th>column_101</th>\n",
       "      <th>column_102</th>\n",
       "      <th>column_103</th>\n",
       "      <th>column_104</th>\n",
       "      <th>column_105</th>\n",
       "      <th>column_106</th>\n",
       "      <th>column_107</th>\n",
       "      <th>column_108</th>\n",
       "    </tr>\n",
       "  </thead>\n",
       "  <tbody>\n",
       "    <tr>\n",
       "      <th>0</th>\n",
       "      <td>None</td>\n",
       "      <td>99520484</td>\n",
       "      <td>42020</td>\n",
       "      <td>R</td>\n",
       "      <td>Other</td>\n",
       "      <td>Other</td>\n",
       "      <td>None</td>\n",
       "      <td>3.0</td>\n",
       "      <td>3.0</td>\n",
       "      <td>109000.0</td>\n",
       "      <td>...</td>\n",
       "      <td>None</td>\n",
       "      <td>None</td>\n",
       "      <td>None</td>\n",
       "      <td>7</td>\n",
       "      <td>N</td>\n",
       "      <td>None</td>\n",
       "      <td>None</td>\n",
       "      <td>7</td>\n",
       "      <td>NaN</td>\n",
       "      <td>NaN</td>\n",
       "    </tr>\n",
       "    <tr>\n",
       "      <th>1</th>\n",
       "      <td>None</td>\n",
       "      <td>99520484</td>\n",
       "      <td>52020</td>\n",
       "      <td>R</td>\n",
       "      <td>Other</td>\n",
       "      <td>Other</td>\n",
       "      <td>None</td>\n",
       "      <td>3.0</td>\n",
       "      <td>3.0</td>\n",
       "      <td>109000.0</td>\n",
       "      <td>...</td>\n",
       "      <td>None</td>\n",
       "      <td>None</td>\n",
       "      <td>None</td>\n",
       "      <td>7</td>\n",
       "      <td>N</td>\n",
       "      <td>None</td>\n",
       "      <td>None</td>\n",
       "      <td>7</td>\n",
       "      <td>NaN</td>\n",
       "      <td>NaN</td>\n",
       "    </tr>\n",
       "    <tr>\n",
       "      <th>2</th>\n",
       "      <td>None</td>\n",
       "      <td>99520484</td>\n",
       "      <td>62020</td>\n",
       "      <td>R</td>\n",
       "      <td>Other</td>\n",
       "      <td>Other</td>\n",
       "      <td>None</td>\n",
       "      <td>3.0</td>\n",
       "      <td>3.0</td>\n",
       "      <td>109000.0</td>\n",
       "      <td>...</td>\n",
       "      <td>None</td>\n",
       "      <td>None</td>\n",
       "      <td>None</td>\n",
       "      <td>7</td>\n",
       "      <td>N</td>\n",
       "      <td>None</td>\n",
       "      <td>None</td>\n",
       "      <td>7</td>\n",
       "      <td>NaN</td>\n",
       "      <td>NaN</td>\n",
       "    </tr>\n",
       "    <tr>\n",
       "      <th>3</th>\n",
       "      <td>None</td>\n",
       "      <td>99520484</td>\n",
       "      <td>72020</td>\n",
       "      <td>R</td>\n",
       "      <td>Other</td>\n",
       "      <td>Other</td>\n",
       "      <td>None</td>\n",
       "      <td>3.0</td>\n",
       "      <td>3.0</td>\n",
       "      <td>109000.0</td>\n",
       "      <td>...</td>\n",
       "      <td>None</td>\n",
       "      <td>None</td>\n",
       "      <td>None</td>\n",
       "      <td>7</td>\n",
       "      <td>N</td>\n",
       "      <td>None</td>\n",
       "      <td>None</td>\n",
       "      <td>7</td>\n",
       "      <td>NaN</td>\n",
       "      <td>NaN</td>\n",
       "    </tr>\n",
       "    <tr>\n",
       "      <th>4</th>\n",
       "      <td>None</td>\n",
       "      <td>99520484</td>\n",
       "      <td>82020</td>\n",
       "      <td>R</td>\n",
       "      <td>Other</td>\n",
       "      <td>Other</td>\n",
       "      <td>None</td>\n",
       "      <td>3.0</td>\n",
       "      <td>3.0</td>\n",
       "      <td>109000.0</td>\n",
       "      <td>...</td>\n",
       "      <td>None</td>\n",
       "      <td>None</td>\n",
       "      <td>None</td>\n",
       "      <td>7</td>\n",
       "      <td>N</td>\n",
       "      <td>None</td>\n",
       "      <td>None</td>\n",
       "      <td>7</td>\n",
       "      <td>NaN</td>\n",
       "      <td>NaN</td>\n",
       "    </tr>\n",
       "  </tbody>\n",
       "</table>\n",
       "<p>5 rows × 108 columns</p>\n",
       "</div>"
      ],
      "text/plain": [
       "  column_1  column_2  column_3 column_4 column_5 column_6 column_7  column_8  \\\n",
       "0     None  99520484     42020        R    Other    Other     None       3.0   \n",
       "1     None  99520484     52020        R    Other    Other     None       3.0   \n",
       "2     None  99520484     62020        R    Other    Other     None       3.0   \n",
       "3     None  99520484     72020        R    Other    Other     None       3.0   \n",
       "4     None  99520484     82020        R    Other    Other     None       3.0   \n",
       "\n",
       "   column_9  column_10  ... column_99  column_100  column_101  column_102  \\\n",
       "0       3.0   109000.0  ...      None        None        None           7   \n",
       "1       3.0   109000.0  ...      None        None        None           7   \n",
       "2       3.0   109000.0  ...      None        None        None           7   \n",
       "3       3.0   109000.0  ...      None        None        None           7   \n",
       "4       3.0   109000.0  ...      None        None        None           7   \n",
       "\n",
       "   column_103  column_104  column_105  column_106  column_107  column_108  \n",
       "0           N        None        None           7         NaN         NaN  \n",
       "1           N        None        None           7         NaN         NaN  \n",
       "2           N        None        None           7         NaN         NaN  \n",
       "3           N        None        None           7         NaN         NaN  \n",
       "4           N        None        None           7         NaN         NaN  \n",
       "\n",
       "[5 rows x 108 columns]"
      ]
     },
     "execution_count": 22,
     "metadata": {},
     "output_type": "execute_result"
    }
   ],
   "source": [
    "conn = duckdb.connect(\"my_db.db\")\n",
    "query = \"\"\"SELECT * FROM read_parquet('parquet/2020Q2.parquet') LIMIT 5;\"\"\"\n",
    "result = conn.execute(query)\n",
    "\n",
    "# Load the result into a Pandas DataFrame\n",
    "df = result.fetchdf()\n",
    "df"
   ]
  },
  {
   "cell_type": "code",
   "execution_count": 141,
   "metadata": {},
   "outputs": [],
   "source": [
    "parquet_folder = os.path.join(os.getcwd(), \"parquet\")\n",
    "parquet_files = [f for f in os.listdir(parquet_folder) if f.endswith(\".parquet\")]\n",
    "parquet_files.sort()"
   ]
  },
  {
   "cell_type": "code",
   "execution_count": 143,
   "metadata": {},
   "outputs": [],
   "source": [
    "create_table_statement = \"\"\"\n",
    "(\n",
    "    POOL_ID VARCHAR(255),\n",
    "    LOAN_ID VARCHAR(255),\n",
    "    ACT_PERIOD VARCHAR(255),\n",
    "    CHANNEL VARCHAR(255),\n",
    "    SELLER VARCHAR(255),\n",
    "    SERVICER VARCHAR(255),\n",
    "    MASTER_SERVICER VARCHAR(255),\n",
    "    ORIG_RATE VARCHAR(255),\n",
    "    CURR_RATE VARCHAR(255),\n",
    "    ORIG_UPB VARCHAR(255),\n",
    "    ISSUANCE_UPB VARCHAR(255),\n",
    "    CURRENT_UPB VARCHAR(255),\n",
    "    ORIG_TERM VARCHAR(255),\n",
    "    ORIG_DATE VARCHAR(255),\n",
    "    FIRST_PAY VARCHAR(255),\n",
    "    LOAN_AGE VARCHAR(255),\n",
    "    REM_MONTHS VARCHAR(255),\n",
    "    ADJ_REM_MONTHS VARCHAR(255),\n",
    "    MATR_DT VARCHAR(255),\n",
    "    OLTV VARCHAR(255),\n",
    "    OCLTV VARCHAR(255),\n",
    "    NUM_BO VARCHAR(255),\n",
    "    DTI VARCHAR(255),\n",
    "    CSCORE_B VARCHAR(255),\n",
    "    CSCORE_C VARCHAR(255),\n",
    "    FIRST_FLAG VARCHAR(255),\n",
    "    PURPOSE VARCHAR(255),\n",
    "    PROP VARCHAR(255),\n",
    "    NO_UNITS VARCHAR(255),\n",
    "    OCC_STAT VARCHAR(255),\n",
    "    STATE VARCHAR(255),\n",
    "    MSA VARCHAR(255),\n",
    "    ZIP VARCHAR(255),\n",
    "    MI_PCT VARCHAR(255),\n",
    "    PRODUCT VARCHAR(255),\n",
    "    PPMT_FLG VARCHAR(255),\n",
    "    IO VARCHAR(255),\n",
    "    FIRST_PAY_IO VARCHAR(255),\n",
    "    MNTHS_TO_AMTZ_IO VARCHAR(255),\n",
    "    DLQ_STATUS VARCHAR(255),\n",
    "    PMT_HISTORY VARCHAR(255),\n",
    "    MOD_FLAG VARCHAR(255),\n",
    "    MI_CANCEL_FLAG VARCHAR(255),\n",
    "    Zero_Bal_Code VARCHAR(255),\n",
    "    ZB_DTE VARCHAR(255),\n",
    "    LAST_UPB VARCHAR(255),\n",
    "    RPRCH_DTE VARCHAR(255),\n",
    "    CURR_SCHD_PRNCPL VARCHAR(255),\n",
    "    TOT_SCHD_PRNCPL VARCHAR(255),\n",
    "    UNSCHD_PRNCPL_CURR VARCHAR(255),\n",
    "    LAST_PAID_INSTALLMENT_DATE VARCHAR(255),\n",
    "    FORECLOSURE_DATE VARCHAR(255),\n",
    "    DISPOSITION_DATE VARCHAR(255),\n",
    "    FORECLOSURE_COSTS VARCHAR(255),\n",
    "    PROPERTY_PRESERVATION_AND_REPAIR_COSTS VARCHAR(255),\n",
    "    ASSET_RECOVERY_COSTS VARCHAR(255),\n",
    "    MISCELLANEOUS_HOLDING_EXPENSES_AND_CREDITS VARCHAR(255),\n",
    "    ASSOCIATED_TAXES_FOR_HOLDING_PROPERTY VARCHAR(255),\n",
    "    NET_SALES_PROCEEDS VARCHAR(255),\n",
    "    CREDIT_ENHANCEMENT_PROCEEDS VARCHAR(255),\n",
    "    REPURCHASES_MAKE_WHOLE_PROCEEDS VARCHAR(255),\n",
    "    OTHER_FORECLOSURE_PROCEEDS VARCHAR(255),\n",
    "    NON_INTEREST_BEARING_UPB VARCHAR(255),\n",
    "    PRINCIPAL_FORGIVENESS_AMOUNT VARCHAR(255),\n",
    "    ORIGINAL_LIST_START_DATE VARCHAR(255),\n",
    "    ORIGINAL_LIST_PRICE VARCHAR(255),\n",
    "    CURRENT_LIST_START_DATE VARCHAR(255),\n",
    "    CURRENT_LIST_PRICE VARCHAR(255),\n",
    "    ISSUE_SCOREB VARCHAR(255),\n",
    "    ISSUE_SCOREC VARCHAR(255),\n",
    "    CURR_SCOREB VARCHAR(255),\n",
    "    CURR_SCOREC VARCHAR(255),\n",
    "    MI_TYPE VARCHAR(255),\n",
    "    SERV_IND VARCHAR(255),\n",
    "    CURRENT_PERIOD_MODIFICATION_LOSS_AMOUNT VARCHAR(255),\n",
    "    CUMULATIVE_MODIFICATION_LOSS_AMOUNT VARCHAR(255),\n",
    "    CURRENT_PERIOD_CREDIT_EVENT_NET_GAIN_OR_LOSS VARCHAR(255),\n",
    "    CUMULATIVE_CREDIT_EVENT_NET_GAIN_OR_LOSS VARCHAR(255),\n",
    "    HOMEREADY_PROGRAM_INDICATOR VARCHAR(255),\n",
    "    FORECLOSURE_PRINCIPAL_WRITE_OFF_AMOUNT VARCHAR(255),\n",
    "    RELOCATION_MORTGAGE_INDICATOR VARCHAR(255),\n",
    "    ZERO_BALANCE_CODE_CHANGE_DATE VARCHAR(255),\n",
    "    LOAN_HOLDBACK_INDICATOR VARCHAR(255),\n",
    "    LOAN_HOLDBACK_EFFECTIVE_DATE VARCHAR(255),\n",
    "    DELINQUENT_ACCRUED_INTEREST VARCHAR(255),\n",
    "    PROPERTY_INSPECTION_WAIVER_INDICATOR VARCHAR(255),\n",
    "    HIGH_BALANCE_LOAN_INDICATOR VARCHAR(255),\n",
    "    ARM_5_YR_INDICATOR VARCHAR(255),\n",
    "    ARM_PRODUCT_TYPE VARCHAR(255),\n",
    "    MONTHS_UNTIL_FIRST_PAYMENT_RESET VARCHAR(255),\n",
    "    MONTHS_BETWEEN_SUBSEQUENT_PAYMENT_RESET VARCHAR(255),\n",
    "    INTEREST_RATE_CHANGE_DATE VARCHAR(255),\n",
    "    PAYMENT_CHANGE_DATE VARCHAR(255),\n",
    "    ARM_INDEX VARCHAR(255),\n",
    "    ARM_CAP_STRUCTURE VARCHAR(255),\n",
    "    INITIAL_INTEREST_RATE_CAP VARCHAR(255),\n",
    "    PERIODIC_INTEREST_RATE_CAP VARCHAR(255),\n",
    "    LIFETIME_INTEREST_RATE_CAP VARCHAR(255),\n",
    "    MARGIN VARCHAR(255),\n",
    "    BALLOON_INDICATOR VARCHAR(255),\n",
    "    PLAN_NUMBER VARCHAR(255),\n",
    "    FORBEARANCE_INDICATOR VARCHAR(255),\n",
    "    HIGH_LOAN_TO_VALUE_HLTV_REFINANCE_OPTION_INDICATOR VARCHAR(255),\n",
    "    DEAL_NAME VARCHAR(255),\n",
    "    RE_PROCS_FLAG VARCHAR(255),\n",
    "    ADR_TYPE VARCHAR(255),\n",
    "    ADR_COUNT VARCHAR(255),\n",
    "    ADR_UPB VARCHAR(255)\n",
    ");\n",
    "\"\"\""
   ]
  },
  {
   "cell_type": "code",
   "execution_count": 144,
   "metadata": {},
   "outputs": [
    {
     "data": {
      "text/plain": [
       "<duckdb.duckdb.DuckDBPyConnection at 0x136be1030>"
      ]
     },
     "execution_count": 144,
     "metadata": {},
     "output_type": "execute_result"
    }
   ],
   "source": [
    "conn = duckdb.connect(\"my_db.db\")\n",
    "combined_table_name = \"fnma_sf_loan_performance_r_primary\"\n",
    "create_combined_table_query = f\"CREATE TABLE \\\n",
    "    {combined_table_name} \\\n",
    "        {create_table_statement};\"\n",
    "conn.execute(create_combined_table_query)"
   ]
  },
  {
   "cell_type": "code",
   "execution_count": 145,
   "metadata": {},
   "outputs": [
    {
     "data": {
      "text/html": [
       "<div>\n",
       "<style scoped>\n",
       "    .dataframe tbody tr th:only-of-type {\n",
       "        vertical-align: middle;\n",
       "    }\n",
       "\n",
       "    .dataframe tbody tr th {\n",
       "        vertical-align: top;\n",
       "    }\n",
       "\n",
       "    .dataframe thead th {\n",
       "        text-align: right;\n",
       "    }\n",
       "</style>\n",
       "<table border=\"1\" class=\"dataframe\">\n",
       "  <thead>\n",
       "    <tr style=\"text-align: right;\">\n",
       "      <th></th>\n",
       "      <th>POOL_ID</th>\n",
       "      <th>LOAN_ID</th>\n",
       "      <th>ACT_PERIOD</th>\n",
       "      <th>CHANNEL</th>\n",
       "      <th>SELLER</th>\n",
       "      <th>SERVICER</th>\n",
       "      <th>MASTER_SERVICER</th>\n",
       "      <th>ORIG_RATE</th>\n",
       "      <th>CURR_RATE</th>\n",
       "      <th>ORIG_UPB</th>\n",
       "      <th>...</th>\n",
       "      <th>MARGIN</th>\n",
       "      <th>BALLOON_INDICATOR</th>\n",
       "      <th>PLAN_NUMBER</th>\n",
       "      <th>FORBEARANCE_INDICATOR</th>\n",
       "      <th>HIGH_LOAN_TO_VALUE_HLTV_REFINANCE_OPTION_INDICATOR</th>\n",
       "      <th>DEAL_NAME</th>\n",
       "      <th>RE_PROCS_FLAG</th>\n",
       "      <th>ADR_TYPE</th>\n",
       "      <th>ADR_COUNT</th>\n",
       "      <th>ADR_UPB</th>\n",
       "    </tr>\n",
       "  </thead>\n",
       "  <tbody>\n",
       "  </tbody>\n",
       "</table>\n",
       "<p>0 rows × 108 columns</p>\n",
       "</div>"
      ],
      "text/plain": [
       "Empty DataFrame\n",
       "Columns: [POOL_ID, LOAN_ID, ACT_PERIOD, CHANNEL, SELLER, SERVICER, MASTER_SERVICER, ORIG_RATE, CURR_RATE, ORIG_UPB, ISSUANCE_UPB, CURRENT_UPB, ORIG_TERM, ORIG_DATE, FIRST_PAY, LOAN_AGE, REM_MONTHS, ADJ_REM_MONTHS, MATR_DT, OLTV, OCLTV, NUM_BO, DTI, CSCORE_B, CSCORE_C, FIRST_FLAG, PURPOSE, PROP, NO_UNITS, OCC_STAT, STATE, MSA, ZIP, MI_PCT, PRODUCT, PPMT_FLG, IO, FIRST_PAY_IO, MNTHS_TO_AMTZ_IO, DLQ_STATUS, PMT_HISTORY, MOD_FLAG, MI_CANCEL_FLAG, Zero_Bal_Code, ZB_DTE, LAST_UPB, RPRCH_DTE, CURR_SCHD_PRNCPL, TOT_SCHD_PRNCPL, UNSCHD_PRNCPL_CURR, LAST_PAID_INSTALLMENT_DATE, FORECLOSURE_DATE, DISPOSITION_DATE, FORECLOSURE_COSTS, PROPERTY_PRESERVATION_AND_REPAIR_COSTS, ASSET_RECOVERY_COSTS, MISCELLANEOUS_HOLDING_EXPENSES_AND_CREDITS, ASSOCIATED_TAXES_FOR_HOLDING_PROPERTY, NET_SALES_PROCEEDS, CREDIT_ENHANCEMENT_PROCEEDS, REPURCHASES_MAKE_WHOLE_PROCEEDS, OTHER_FORECLOSURE_PROCEEDS, NON_INTEREST_BEARING_UPB, PRINCIPAL_FORGIVENESS_AMOUNT, ORIGINAL_LIST_START_DATE, ORIGINAL_LIST_PRICE, CURRENT_LIST_START_DATE, CURRENT_LIST_PRICE, ISSUE_SCOREB, ISSUE_SCOREC, CURR_SCOREB, CURR_SCOREC, MI_TYPE, SERV_IND, CURRENT_PERIOD_MODIFICATION_LOSS_AMOUNT, CUMULATIVE_MODIFICATION_LOSS_AMOUNT, CURRENT_PERIOD_CREDIT_EVENT_NET_GAIN_OR_LOSS, CUMULATIVE_CREDIT_EVENT_NET_GAIN_OR_LOSS, HOMEREADY_PROGRAM_INDICATOR, FORECLOSURE_PRINCIPAL_WRITE_OFF_AMOUNT, RELOCATION_MORTGAGE_INDICATOR, ZERO_BALANCE_CODE_CHANGE_DATE, LOAN_HOLDBACK_INDICATOR, LOAN_HOLDBACK_EFFECTIVE_DATE, DELINQUENT_ACCRUED_INTEREST, PROPERTY_INSPECTION_WAIVER_INDICATOR, HIGH_BALANCE_LOAN_INDICATOR, ARM_5_YR_INDICATOR, ARM_PRODUCT_TYPE, MONTHS_UNTIL_FIRST_PAYMENT_RESET, MONTHS_BETWEEN_SUBSEQUENT_PAYMENT_RESET, INTEREST_RATE_CHANGE_DATE, PAYMENT_CHANGE_DATE, ARM_INDEX, ARM_CAP_STRUCTURE, INITIAL_INTEREST_RATE_CAP, PERIODIC_INTEREST_RATE_CAP, LIFETIME_INTEREST_RATE_CAP, MARGIN, BALLOON_INDICATOR, ...]\n",
       "Index: []\n",
       "\n",
       "[0 rows x 108 columns]"
      ]
     },
     "execution_count": 145,
     "metadata": {},
     "output_type": "execute_result"
    }
   ],
   "source": [
    "conn.execute('SELECT * FROM fnma_sf_loan_performance_r_primary;').fetchdf()\n",
    "# conn.execute('DROP TABLE fnma_sf_loan_performance_r_primary;').fetchdf()"
   ]
  },
  {
   "cell_type": "code",
   "execution_count": 146,
   "metadata": {},
   "outputs": [
    {
     "data": {
      "application/vnd.jupyter.widget-view+json": {
       "model_id": "528a9e5f07c247e3b246dfd1221f0858",
       "version_major": 2,
       "version_minor": 0
      },
      "text/plain": [
       "FloatProgress(value=0.0, layout=Layout(width='auto'), style=ProgressStyle(bar_color='black'))"
      ]
     },
     "metadata": {},
     "output_type": "display_data"
    },
    {
     "data": {
      "application/vnd.jupyter.widget-view+json": {
       "model_id": "d30c040dec99455aabe74f00d00b13ce",
       "version_major": 2,
       "version_minor": 0
      },
      "text/plain": [
       "FloatProgress(value=0.0, layout=Layout(width='auto'), style=ProgressStyle(bar_color='black'))"
      ]
     },
     "metadata": {},
     "output_type": "display_data"
    },
    {
     "data": {
      "application/vnd.jupyter.widget-view+json": {
       "model_id": "78415d1cde9943aa8c664f62542c34f6",
       "version_major": 2,
       "version_minor": 0
      },
      "text/plain": [
       "FloatProgress(value=0.0, layout=Layout(width='auto'), style=ProgressStyle(bar_color='black'))"
      ]
     },
     "metadata": {},
     "output_type": "display_data"
    },
    {
     "data": {
      "application/vnd.jupyter.widget-view+json": {
       "model_id": "a27cd5c2d1dd49be93b2a2f8a2f6a6b6",
       "version_major": 2,
       "version_minor": 0
      },
      "text/plain": [
       "FloatProgress(value=0.0, layout=Layout(width='auto'), style=ProgressStyle(bar_color='black'))"
      ]
     },
     "metadata": {},
     "output_type": "display_data"
    },
    {
     "data": {
      "application/vnd.jupyter.widget-view+json": {
       "model_id": "994d4aeecf9b4803b749c1e3f06ea46a",
       "version_major": 2,
       "version_minor": 0
      },
      "text/plain": [
       "FloatProgress(value=0.0, layout=Layout(width='auto'), style=ProgressStyle(bar_color='black'))"
      ]
     },
     "metadata": {},
     "output_type": "display_data"
    },
    {
     "data": {
      "application/vnd.jupyter.widget-view+json": {
       "model_id": "cec1111acc2d47d6a2429f7f3e773b46",
       "version_major": 2,
       "version_minor": 0
      },
      "text/plain": [
       "FloatProgress(value=0.0, layout=Layout(width='auto'), style=ProgressStyle(bar_color='black'))"
      ]
     },
     "metadata": {},
     "output_type": "display_data"
    },
    {
     "data": {
      "application/vnd.jupyter.widget-view+json": {
       "model_id": "e6079dfd0251489c8f10eec2798e8a76",
       "version_major": 2,
       "version_minor": 0
      },
      "text/plain": [
       "FloatProgress(value=0.0, layout=Layout(width='auto'), style=ProgressStyle(bar_color='black'))"
      ]
     },
     "metadata": {},
     "output_type": "display_data"
    },
    {
     "data": {
      "application/vnd.jupyter.widget-view+json": {
       "model_id": "3255641a23c8410586f6830eae0b9776",
       "version_major": 2,
       "version_minor": 0
      },
      "text/plain": [
       "FloatProgress(value=0.0, layout=Layout(width='auto'), style=ProgressStyle(bar_color='black'))"
      ]
     },
     "metadata": {},
     "output_type": "display_data"
    },
    {
     "data": {
      "application/vnd.jupyter.widget-view+json": {
       "model_id": "9789ff2659ce4b5fbb5ee4e5d4403a45",
       "version_major": 2,
       "version_minor": 0
      },
      "text/plain": [
       "FloatProgress(value=0.0, layout=Layout(width='auto'), style=ProgressStyle(bar_color='black'))"
      ]
     },
     "metadata": {},
     "output_type": "display_data"
    },
    {
     "data": {
      "application/vnd.jupyter.widget-view+json": {
       "model_id": "1655d2bb7b35421fa79cac68b989347b",
       "version_major": 2,
       "version_minor": 0
      },
      "text/plain": [
       "FloatProgress(value=0.0, layout=Layout(width='auto'), style=ProgressStyle(bar_color='black'))"
      ]
     },
     "metadata": {},
     "output_type": "display_data"
    },
    {
     "data": {
      "application/vnd.jupyter.widget-view+json": {
       "model_id": "1724c5798aa04f4a84f8d495abdafb65",
       "version_major": 2,
       "version_minor": 0
      },
      "text/plain": [
       "FloatProgress(value=0.0, layout=Layout(width='auto'), style=ProgressStyle(bar_color='black'))"
      ]
     },
     "metadata": {},
     "output_type": "display_data"
    },
    {
     "data": {
      "application/vnd.jupyter.widget-view+json": {
       "model_id": "748bbadfa96a4509aa039e5f900637e4",
       "version_major": 2,
       "version_minor": 0
      },
      "text/plain": [
       "FloatProgress(value=0.0, layout=Layout(width='auto'), style=ProgressStyle(bar_color='black'))"
      ]
     },
     "metadata": {},
     "output_type": "display_data"
    },
    {
     "data": {
      "application/vnd.jupyter.widget-view+json": {
       "model_id": "b8de3436402549429b0e809de8c9ab79",
       "version_major": 2,
       "version_minor": 0
      },
      "text/plain": [
       "FloatProgress(value=0.0, layout=Layout(width='auto'), style=ProgressStyle(bar_color='black'))"
      ]
     },
     "metadata": {},
     "output_type": "display_data"
    },
    {
     "data": {
      "application/vnd.jupyter.widget-view+json": {
       "model_id": "8ed7c133460749a0afa55dbd88e54697",
       "version_major": 2,
       "version_minor": 0
      },
      "text/plain": [
       "FloatProgress(value=0.0, layout=Layout(width='auto'), style=ProgressStyle(bar_color='black'))"
      ]
     },
     "metadata": {},
     "output_type": "display_data"
    },
    {
     "data": {
      "application/vnd.jupyter.widget-view+json": {
       "model_id": "d03bc3c09c15463c9f57f2d6e4a98d20",
       "version_major": 2,
       "version_minor": 0
      },
      "text/plain": [
       "FloatProgress(value=0.0, layout=Layout(width='auto'), style=ProgressStyle(bar_color='black'))"
      ]
     },
     "metadata": {},
     "output_type": "display_data"
    },
    {
     "data": {
      "application/vnd.jupyter.widget-view+json": {
       "model_id": "8104b16f25e740b6ae527956f9214276",
       "version_major": 2,
       "version_minor": 0
      },
      "text/plain": [
       "FloatProgress(value=0.0, layout=Layout(width='auto'), style=ProgressStyle(bar_color='black'))"
      ]
     },
     "metadata": {},
     "output_type": "display_data"
    },
    {
     "data": {
      "application/vnd.jupyter.widget-view+json": {
       "model_id": "0569992318d84e689a1d004eb7a975dd",
       "version_major": 2,
       "version_minor": 0
      },
      "text/plain": [
       "FloatProgress(value=0.0, layout=Layout(width='auto'), style=ProgressStyle(bar_color='black'))"
      ]
     },
     "metadata": {},
     "output_type": "display_data"
    },
    {
     "data": {
      "application/vnd.jupyter.widget-view+json": {
       "model_id": "fbe22b55384c4eceae8e40f561647018",
       "version_major": 2,
       "version_minor": 0
      },
      "text/plain": [
       "FloatProgress(value=0.0, layout=Layout(width='auto'), style=ProgressStyle(bar_color='black'))"
      ]
     },
     "metadata": {},
     "output_type": "display_data"
    },
    {
     "data": {
      "application/vnd.jupyter.widget-view+json": {
       "model_id": "4240a600018c4fe189c80a2233c2121e",
       "version_major": 2,
       "version_minor": 0
      },
      "text/plain": [
       "FloatProgress(value=0.0, layout=Layout(width='auto'), style=ProgressStyle(bar_color='black'))"
      ]
     },
     "metadata": {},
     "output_type": "display_data"
    },
    {
     "data": {
      "application/vnd.jupyter.widget-view+json": {
       "model_id": "f15aab045e92431280e9750e34e171d8",
       "version_major": 2,
       "version_minor": 0
      },
      "text/plain": [
       "FloatProgress(value=0.0, layout=Layout(width='auto'), style=ProgressStyle(bar_color='black'))"
      ]
     },
     "metadata": {},
     "output_type": "display_data"
    },
    {
     "data": {
      "application/vnd.jupyter.widget-view+json": {
       "model_id": "063cd49fbd534b509218cae12a122823",
       "version_major": 2,
       "version_minor": 0
      },
      "text/plain": [
       "FloatProgress(value=0.0, layout=Layout(width='auto'), style=ProgressStyle(bar_color='black'))"
      ]
     },
     "metadata": {},
     "output_type": "display_data"
    },
    {
     "data": {
      "application/vnd.jupyter.widget-view+json": {
       "model_id": "32ba8108935e42fb9e169edecc95c059",
       "version_major": 2,
       "version_minor": 0
      },
      "text/plain": [
       "FloatProgress(value=0.0, layout=Layout(width='auto'), style=ProgressStyle(bar_color='black'))"
      ]
     },
     "metadata": {},
     "output_type": "display_data"
    },
    {
     "data": {
      "application/vnd.jupyter.widget-view+json": {
       "model_id": "521a1176006c4977b3ff187c932664f3",
       "version_major": 2,
       "version_minor": 0
      },
      "text/plain": [
       "FloatProgress(value=0.0, layout=Layout(width='auto'), style=ProgressStyle(bar_color='black'))"
      ]
     },
     "metadata": {},
     "output_type": "display_data"
    },
    {
     "data": {
      "application/vnd.jupyter.widget-view+json": {
       "model_id": "58e6172ebd58464288fb5070594260d1",
       "version_major": 2,
       "version_minor": 0
      },
      "text/plain": [
       "FloatProgress(value=0.0, layout=Layout(width='auto'), style=ProgressStyle(bar_color='black'))"
      ]
     },
     "metadata": {},
     "output_type": "display_data"
    },
    {
     "data": {
      "application/vnd.jupyter.widget-view+json": {
       "model_id": "7921803de01c42eea7414ef65ceb9067",
       "version_major": 2,
       "version_minor": 0
      },
      "text/plain": [
       "FloatProgress(value=0.0, layout=Layout(width='auto'), style=ProgressStyle(bar_color='black'))"
      ]
     },
     "metadata": {},
     "output_type": "display_data"
    },
    {
     "data": {
      "application/vnd.jupyter.widget-view+json": {
       "model_id": "388cd2d382584e46bbdbf6d057b1ce01",
       "version_major": 2,
       "version_minor": 0
      },
      "text/plain": [
       "FloatProgress(value=0.0, layout=Layout(width='auto'), style=ProgressStyle(bar_color='black'))"
      ]
     },
     "metadata": {},
     "output_type": "display_data"
    },
    {
     "data": {
      "application/vnd.jupyter.widget-view+json": {
       "model_id": "024000c76d384cafb2537183ac3fb2b3",
       "version_major": 2,
       "version_minor": 0
      },
      "text/plain": [
       "FloatProgress(value=0.0, layout=Layout(width='auto'), style=ProgressStyle(bar_color='black'))"
      ]
     },
     "metadata": {},
     "output_type": "display_data"
    },
    {
     "data": {
      "application/vnd.jupyter.widget-view+json": {
       "model_id": "7398bbad619c43f6bc81b6c299423bb2",
       "version_major": 2,
       "version_minor": 0
      },
      "text/plain": [
       "FloatProgress(value=0.0, layout=Layout(width='auto'), style=ProgressStyle(bar_color='black'))"
      ]
     },
     "metadata": {},
     "output_type": "display_data"
    },
    {
     "data": {
      "application/vnd.jupyter.widget-view+json": {
       "model_id": "95c45c04154246a4aecc4594df67b9d3",
       "version_major": 2,
       "version_minor": 0
      },
      "text/plain": [
       "FloatProgress(value=0.0, layout=Layout(width='auto'), style=ProgressStyle(bar_color='black'))"
      ]
     },
     "metadata": {},
     "output_type": "display_data"
    }
   ],
   "source": [
    "# Read multiple Parquet files into a DuckDB table\n",
    "for file_name in parquet_files:\n",
    "    parquet_file = os.path.join(parquet_folder, f\"{file_name}\")\n",
    "    query = f\"INSERT INTO fnma_sf_loan_performance_r_primary SELECT * FROM read_parquet('{parquet_file}');\"\n",
    "    conn.execute(query)"
   ]
  },
  {
   "cell_type": "markdown",
   "metadata": {},
   "source": [
    "### Default data"
   ]
  },
  {
   "cell_type": "code",
   "execution_count": 149,
   "metadata": {},
   "outputs": [
    {
     "data": {
      "text/html": [
       "<div>\n",
       "<style scoped>\n",
       "    .dataframe tbody tr th:only-of-type {\n",
       "        vertical-align: middle;\n",
       "    }\n",
       "\n",
       "    .dataframe tbody tr th {\n",
       "        vertical-align: top;\n",
       "    }\n",
       "\n",
       "    .dataframe thead th {\n",
       "        text-align: right;\n",
       "    }\n",
       "</style>\n",
       "<table border=\"1\" class=\"dataframe\">\n",
       "  <thead>\n",
       "    <tr style=\"text-align: right;\">\n",
       "      <th></th>\n",
       "      <th>POOL_ID</th>\n",
       "      <th>LOAN_ID</th>\n",
       "      <th>ACT_PERIOD</th>\n",
       "      <th>CHANNEL</th>\n",
       "      <th>SELLER</th>\n",
       "      <th>SERVICER</th>\n",
       "      <th>MASTER_SERVICER</th>\n",
       "      <th>ORIG_RATE</th>\n",
       "      <th>CURR_RATE</th>\n",
       "      <th>ORIG_UPB</th>\n",
       "      <th>...</th>\n",
       "      <th>MARGIN</th>\n",
       "      <th>BALLOON_INDICATOR</th>\n",
       "      <th>PLAN_NUMBER</th>\n",
       "      <th>FORBEARANCE_INDICATOR</th>\n",
       "      <th>HIGH_LOAN_TO_VALUE_HLTV_REFINANCE_OPTION_INDICATOR</th>\n",
       "      <th>DEAL_NAME</th>\n",
       "      <th>RE_PROCS_FLAG</th>\n",
       "      <th>ADR_TYPE</th>\n",
       "      <th>ADR_COUNT</th>\n",
       "      <th>ADR_UPB</th>\n",
       "    </tr>\n",
       "  </thead>\n",
       "  <tbody>\n",
       "    <tr>\n",
       "      <th>0</th>\n",
       "      <td>None</td>\n",
       "      <td>100003370447</td>\n",
       "      <td>62015</td>\n",
       "      <td>R</td>\n",
       "      <td>Other</td>\n",
       "      <td>Other</td>\n",
       "      <td>None</td>\n",
       "      <td>3.875</td>\n",
       "      <td>3.875</td>\n",
       "      <td>177000.0</td>\n",
       "      <td>...</td>\n",
       "      <td>None</td>\n",
       "      <td>None</td>\n",
       "      <td>None</td>\n",
       "      <td>None</td>\n",
       "      <td>N</td>\n",
       "      <td>None</td>\n",
       "      <td>None</td>\n",
       "      <td>None</td>\n",
       "      <td>None</td>\n",
       "      <td>None</td>\n",
       "    </tr>\n",
       "    <tr>\n",
       "      <th>1</th>\n",
       "      <td>None</td>\n",
       "      <td>100003370447</td>\n",
       "      <td>72015</td>\n",
       "      <td>R</td>\n",
       "      <td>Other</td>\n",
       "      <td>Other</td>\n",
       "      <td>None</td>\n",
       "      <td>3.875</td>\n",
       "      <td>3.875</td>\n",
       "      <td>177000.0</td>\n",
       "      <td>...</td>\n",
       "      <td>None</td>\n",
       "      <td>None</td>\n",
       "      <td>None</td>\n",
       "      <td>None</td>\n",
       "      <td>N</td>\n",
       "      <td>None</td>\n",
       "      <td>None</td>\n",
       "      <td>None</td>\n",
       "      <td>None</td>\n",
       "      <td>None</td>\n",
       "    </tr>\n",
       "    <tr>\n",
       "      <th>2</th>\n",
       "      <td>None</td>\n",
       "      <td>100003370447</td>\n",
       "      <td>82015</td>\n",
       "      <td>R</td>\n",
       "      <td>Other</td>\n",
       "      <td>Other</td>\n",
       "      <td>None</td>\n",
       "      <td>3.875</td>\n",
       "      <td>3.875</td>\n",
       "      <td>177000.0</td>\n",
       "      <td>...</td>\n",
       "      <td>None</td>\n",
       "      <td>None</td>\n",
       "      <td>None</td>\n",
       "      <td>None</td>\n",
       "      <td>N</td>\n",
       "      <td>None</td>\n",
       "      <td>None</td>\n",
       "      <td>None</td>\n",
       "      <td>None</td>\n",
       "      <td>None</td>\n",
       "    </tr>\n",
       "    <tr>\n",
       "      <th>3</th>\n",
       "      <td>None</td>\n",
       "      <td>100003370447</td>\n",
       "      <td>92015</td>\n",
       "      <td>R</td>\n",
       "      <td>Other</td>\n",
       "      <td>Other</td>\n",
       "      <td>None</td>\n",
       "      <td>3.875</td>\n",
       "      <td>3.875</td>\n",
       "      <td>177000.0</td>\n",
       "      <td>...</td>\n",
       "      <td>None</td>\n",
       "      <td>None</td>\n",
       "      <td>None</td>\n",
       "      <td>None</td>\n",
       "      <td>N</td>\n",
       "      <td>None</td>\n",
       "      <td>None</td>\n",
       "      <td>None</td>\n",
       "      <td>None</td>\n",
       "      <td>None</td>\n",
       "    </tr>\n",
       "    <tr>\n",
       "      <th>4</th>\n",
       "      <td>None</td>\n",
       "      <td>100003370447</td>\n",
       "      <td>102015</td>\n",
       "      <td>R</td>\n",
       "      <td>Other</td>\n",
       "      <td>Other</td>\n",
       "      <td>None</td>\n",
       "      <td>3.875</td>\n",
       "      <td>3.875</td>\n",
       "      <td>177000.0</td>\n",
       "      <td>...</td>\n",
       "      <td>None</td>\n",
       "      <td>None</td>\n",
       "      <td>None</td>\n",
       "      <td>None</td>\n",
       "      <td>N</td>\n",
       "      <td>None</td>\n",
       "      <td>None</td>\n",
       "      <td>None</td>\n",
       "      <td>None</td>\n",
       "      <td>None</td>\n",
       "    </tr>\n",
       "  </tbody>\n",
       "</table>\n",
       "<p>5 rows × 108 columns</p>\n",
       "</div>"
      ],
      "text/plain": [
       "  POOL_ID       LOAN_ID ACT_PERIOD CHANNEL SELLER SERVICER MASTER_SERVICER  \\\n",
       "0    None  100003370447      62015       R  Other    Other            None   \n",
       "1    None  100003370447      72015       R  Other    Other            None   \n",
       "2    None  100003370447      82015       R  Other    Other            None   \n",
       "3    None  100003370447      92015       R  Other    Other            None   \n",
       "4    None  100003370447     102015       R  Other    Other            None   \n",
       "\n",
       "  ORIG_RATE CURR_RATE  ORIG_UPB  ... MARGIN BALLOON_INDICATOR PLAN_NUMBER  \\\n",
       "0     3.875     3.875  177000.0  ...   None              None        None   \n",
       "1     3.875     3.875  177000.0  ...   None              None        None   \n",
       "2     3.875     3.875  177000.0  ...   None              None        None   \n",
       "3     3.875     3.875  177000.0  ...   None              None        None   \n",
       "4     3.875     3.875  177000.0  ...   None              None        None   \n",
       "\n",
       "  FORBEARANCE_INDICATOR HIGH_LOAN_TO_VALUE_HLTV_REFINANCE_OPTION_INDICATOR  \\\n",
       "0                  None                                                  N   \n",
       "1                  None                                                  N   \n",
       "2                  None                                                  N   \n",
       "3                  None                                                  N   \n",
       "4                  None                                                  N   \n",
       "\n",
       "  DEAL_NAME RE_PROCS_FLAG ADR_TYPE ADR_COUNT ADR_UPB  \n",
       "0      None          None     None      None    None  \n",
       "1      None          None     None      None    None  \n",
       "2      None          None     None      None    None  \n",
       "3      None          None     None      None    None  \n",
       "4      None          None     None      None    None  \n",
       "\n",
       "[5 rows x 108 columns]"
      ]
     },
     "execution_count": 149,
     "metadata": {},
     "output_type": "execute_result"
    }
   ],
   "source": [
    "conn.execute('SELECT * FROM fnma_sf_loan_performance_r_primary LIMIT 5;').fetchdf()"
   ]
  },
  {
   "cell_type": "code",
   "execution_count": 150,
   "metadata": {},
   "outputs": [],
   "source": [
    "query = \"\"\"\n",
    "SELECT column_name, data_type, is_nullable, ordinal_position\n",
    "FROM information_schema.columns\n",
    "WHERE table_name = 'fnma_sf_loan_performance_r_primary'\n",
    "\"\"\"\n",
    "\n",
    "df = conn.execute(f'{query}').fetchdf()"
   ]
  },
  {
   "cell_type": "code",
   "execution_count": 196,
   "metadata": {},
   "outputs": [],
   "source": [
    "create_default_data_query = \"\"\"\n",
    "CREATE TABLE Default_Flag_Table AS\n",
    "SELECT\n",
    "    LOAN_ID,\n",
    "    MIN(ACT_PERIOD) AS default_date\n",
    "FROM fnma_sf_loan_performance_r_primary\n",
    "WHERE DLQ_STATUS IN ('05', '10', '19', '27', '34', '54', '07')\n",
    "-- Zero_Bal_Code IN ('02', '03', '09', '15') -- default codes\n",
    "GROUP BY LOAN_ID;\n",
    "\"\"\"\n"
   ]
  },
  {
   "cell_type": "code",
   "execution_count": 195,
   "metadata": {},
   "outputs": [
    {
     "data": {
      "text/plain": [
       "<duckdb.duckdb.DuckDBPyConnection at 0x136be1030>"
      ]
     },
     "execution_count": 195,
     "metadata": {},
     "output_type": "execute_result"
    }
   ],
   "source": [
    "# conn.execute(f'DROP TABLE IF EXISTS Default_Flag_Table;')"
   ]
  },
  {
   "cell_type": "code",
   "execution_count": 197,
   "metadata": {},
   "outputs": [
    {
     "data": {
      "text/plain": [
       "<duckdb.duckdb.DuckDBPyConnection at 0x136be1030>"
      ]
     },
     "execution_count": 197,
     "metadata": {},
     "output_type": "execute_result"
    }
   ],
   "source": [
    "conn.execute(f'{create_default_data_query}')"
   ]
  },
  {
   "cell_type": "code",
   "execution_count": 198,
   "metadata": {},
   "outputs": [
    {
     "data": {
      "text/html": [
       "<div>\n",
       "<style scoped>\n",
       "    .dataframe tbody tr th:only-of-type {\n",
       "        vertical-align: middle;\n",
       "    }\n",
       "\n",
       "    .dataframe tbody tr th {\n",
       "        vertical-align: top;\n",
       "    }\n",
       "\n",
       "    .dataframe thead th {\n",
       "        text-align: right;\n",
       "    }\n",
       "</style>\n",
       "<table border=\"1\" class=\"dataframe\">\n",
       "  <thead>\n",
       "    <tr style=\"text-align: right;\">\n",
       "      <th></th>\n",
       "      <th>count_star()</th>\n",
       "    </tr>\n",
       "  </thead>\n",
       "  <tbody>\n",
       "    <tr>\n",
       "      <th>0</th>\n",
       "      <td>358368</td>\n",
       "    </tr>\n",
       "  </tbody>\n",
       "</table>\n",
       "</div>"
      ],
      "text/plain": [
       "   count_star()\n",
       "0        358368"
      ]
     },
     "execution_count": 198,
     "metadata": {},
     "output_type": "execute_result"
    }
   ],
   "source": [
    "query = f\"\"\"\n",
    "SELECT COUNT(*) FROM Default_Flag_Table;\n",
    "\"\"\"\n",
    "conn.execute(f'{query}').fetchdf()"
   ]
  },
  {
   "cell_type": "markdown",
   "metadata": {},
   "source": [
    "### Application sample (acquisitions)"
   ]
  },
  {
   "cell_type": "code",
   "execution_count": 163,
   "metadata": {},
   "outputs": [],
   "source": [
    "acqusitions_sample = \"\"\"\n",
    "CREATE TABLE acquisitions \n",
    "AS\n",
    "SELECT ACT_PERIOD,\n",
    "       LOAN_ID,\n",
    "       CHANNEL AS ORIG_CHN,\n",
    "       SELLER,\n",
    "       ORIG_RATE AS orig_rt,\n",
    "       ORIG_UPB AS orig_amt,\n",
    "       ORIG_TERM AS orig_trm,\n",
    "       ORIG_DATE AS orig_date,\n",
    "       FIRST_PAY AS first_pay,\n",
    "       OLTV AS oltv,\n",
    "       OCLTV AS ocltv,\n",
    "       NUM_BO AS num_bo,\n",
    "       DTI AS dti,\n",
    "       CSCORE_B,\n",
    "       CSCORE_C,\n",
    "       FIRST_FLAG AS FTHB_FLG,\n",
    "       PURPOSE AS purpose,\n",
    "       PROP AS PROP_TYP,\n",
    "       NO_UNITS AS NUM_UNIT,\n",
    "       OCC_STAT AS occ_stat,\n",
    "       STATE AS state,\n",
    "       ZIP AS zip_3,\n",
    "       MI_PCT AS mi_pct,\n",
    "       PRODUCT AS prod_type,\n",
    "       MI_TYPE,\n",
    "       RELOCATION_MORTGAGE_INDICATOR AS relo_flg\n",
    "FROM fnma_sf_loan_performance_r_primary;\n",
    "\n",
    "-- Identify the first period for each LOAN_ID\n",
    "CREATE TABLE acqFirstPeriod \n",
    "AS\n",
    "SELECT LOAN_ID,\n",
    "       MIN(ACT_PERIOD) AS first_period\n",
    "FROM fnma_sf_loan_performance_r_primary\n",
    "GROUP BY LOAN_ID;\n",
    "\n",
    "-- Join the acquisitions with the first period\n",
    "CREATE TABLE acquisitionFile \n",
    "AS\n",
    "SELECT afp.LOAN_ID,\n",
    "       af.ACT_PERIOD,\n",
    "       af.ORIG_CHN,\n",
    "       af.SELLER,\n",
    "       af.orig_rt,\n",
    "       af.orig_amt,\n",
    "       af.orig_trm,\n",
    "       af.orig_date,\n",
    "       af.first_pay,\n",
    "       af.oltv,\n",
    "       af.ocltv,\n",
    "       af.num_bo,\n",
    "       af.dti,\n",
    "       af.CSCORE_B,\n",
    "       af.CSCORE_C,\n",
    "       af.FTHB_FLG,\n",
    "       af.purpose,\n",
    "       af.PROP_TYP,\n",
    "       af.NUM_UNIT,\n",
    "       af.occ_stat,\n",
    "       af.state,\n",
    "       af.zip_3,\n",
    "       af.mi_pct,\n",
    "       af.prod_type,\n",
    "       af.MI_TYPE,\n",
    "       af.relo_flg\n",
    "FROM acqFirstPeriod afp\n",
    "  INNER JOIN acquisitions af\n",
    "          ON afp.LOAN_ID = af.LOAN_ID\n",
    "         AND afp.first_period = af.ACT_PERIOD;\n",
    "\"\"\""
   ]
  },
  {
   "cell_type": "code",
   "execution_count": 140,
   "metadata": {},
   "outputs": [],
   "source": [
    "# conn.execute(f'DROP TABLE IF EXISTS fnma_sf_loan_performance_r_primary;')\n",
    "# conn.execute(f'DROP TABLE IF EXISTS acquisitions;')\n",
    "# conn.execute(f'DROP TABLE IF EXISTS acquisitionFile;')\n",
    "# conn.execute(f'DROP TABLE IF EXISTS acqFirstPeriod;')"
   ]
  },
  {
   "cell_type": "code",
   "execution_count": 164,
   "metadata": {},
   "outputs": [
    {
     "data": {
      "application/vnd.jupyter.widget-view+json": {
       "model_id": "9e0837aa33fc43ec8bdc4d5a597c7837",
       "version_major": 2,
       "version_minor": 0
      },
      "text/plain": [
       "FloatProgress(value=0.0, layout=Layout(width='auto'), style=ProgressStyle(bar_color='black'))"
      ]
     },
     "metadata": {},
     "output_type": "display_data"
    },
    {
     "data": {
      "application/vnd.jupyter.widget-view+json": {
       "model_id": "8eaf7af612794283a8f45e2d3f36acab",
       "version_major": 2,
       "version_minor": 0
      },
      "text/plain": [
       "FloatProgress(value=0.0, layout=Layout(width='auto'), style=ProgressStyle(bar_color='black'))"
      ]
     },
     "metadata": {},
     "output_type": "display_data"
    },
    {
     "data": {
      "application/vnd.jupyter.widget-view+json": {
       "model_id": "93c0a443e0504b7bbdc75c6000693e5d",
       "version_major": 2,
       "version_minor": 0
      },
      "text/plain": [
       "FloatProgress(value=0.0, layout=Layout(width='auto'), style=ProgressStyle(bar_color='black'))"
      ]
     },
     "metadata": {},
     "output_type": "display_data"
    },
    {
     "data": {
      "text/plain": [
       "<duckdb.duckdb.DuckDBPyConnection at 0x136be1030>"
      ]
     },
     "execution_count": 164,
     "metadata": {},
     "output_type": "execute_result"
    }
   ],
   "source": [
    "conn.execute(f'{acqusitions_sample}')"
   ]
  },
  {
   "cell_type": "code",
   "execution_count": 200,
   "metadata": {},
   "outputs": [
    {
     "data": {
      "text/plain": [
       "<duckdb.duckdb.DuckDBPyConnection at 0x136be1030>"
      ]
     },
     "execution_count": 200,
     "metadata": {},
     "output_type": "execute_result"
    }
   ],
   "source": [
    "# conn.execute(f'DROP TABLE IF EXISTS Acquisitions_With_Default_Flag;')"
   ]
  },
  {
   "cell_type": "code",
   "execution_count": 201,
   "metadata": {},
   "outputs": [
    {
     "data": {
      "application/vnd.jupyter.widget-view+json": {
       "model_id": "399a68a0158043da83193ca33efc8ed4",
       "version_major": 2,
       "version_minor": 0
      },
      "text/plain": [
       "FloatProgress(value=0.0, layout=Layout(width='auto'), style=ProgressStyle(bar_color='black'))"
      ]
     },
     "metadata": {},
     "output_type": "display_data"
    },
    {
     "data": {
      "text/plain": [
       "<duckdb.duckdb.DuckDBPyConnection at 0x136be1030>"
      ]
     },
     "execution_count": 201,
     "metadata": {},
     "output_type": "execute_result"
    }
   ],
   "source": [
    "create_application_sample = \"\"\"\n",
    "CREATE TABLE Acquisitions_With_Default_Flag AS\n",
    "SELECT\n",
    "    a.*,\n",
    "    CASE WHEN d.default_date IS NOT NULL\n",
    "    THEN 1\n",
    "    ELSE 0\n",
    "    END AS DEFAULT_FLAG\n",
    "FROM acquisitionFile a\n",
    "LEFT JOIN Default_Flag_Table d\n",
    "ON a.LOAN_ID = d.LOAN_ID;\n",
    "\"\"\"\n",
    "\n",
    "conn.execute(f'{create_application_sample}')"
   ]
  },
  {
   "cell_type": "code",
   "execution_count": 189,
   "metadata": {},
   "outputs": [
    {
     "data": {
      "text/html": [
       "<div>\n",
       "<style scoped>\n",
       "    .dataframe tbody tr th:only-of-type {\n",
       "        vertical-align: middle;\n",
       "    }\n",
       "\n",
       "    .dataframe tbody tr th {\n",
       "        vertical-align: top;\n",
       "    }\n",
       "\n",
       "    .dataframe thead th {\n",
       "        text-align: right;\n",
       "    }\n",
       "</style>\n",
       "<table border=\"1\" class=\"dataframe\">\n",
       "  <thead>\n",
       "    <tr style=\"text-align: right;\">\n",
       "      <th></th>\n",
       "      <th>cnt_def</th>\n",
       "    </tr>\n",
       "  </thead>\n",
       "  <tbody>\n",
       "    <tr>\n",
       "      <th>0</th>\n",
       "      <td>986525.0</td>\n",
       "    </tr>\n",
       "  </tbody>\n",
       "</table>\n",
       "</div>"
      ],
      "text/plain": [
       "    cnt_def\n",
       "0  986525.0"
      ]
     },
     "execution_count": 189,
     "metadata": {},
     "output_type": "execute_result"
    }
   ],
   "source": [
    "# conn.execute(f\"\"\"\n",
    "#              SELECT SUM(CASE \n",
    "#              WHEN DLQ_STATUS IN ('05', '10', '19', '27', '34', '54', '07')  THEN 1\n",
    "#              ELSE 0 END) cnt_def\n",
    "#              from fnma_sf_loan_performance_r_primary\n",
    "#              ;\n",
    "#              \"\"\").fetchdf()"
   ]
  },
  {
   "cell_type": "code",
   "execution_count": 207,
   "metadata": {},
   "outputs": [
    {
     "data": {
      "text/html": [
       "<div>\n",
       "<style scoped>\n",
       "    .dataframe tbody tr th:only-of-type {\n",
       "        vertical-align: middle;\n",
       "    }\n",
       "\n",
       "    .dataframe tbody tr th {\n",
       "        vertical-align: top;\n",
       "    }\n",
       "\n",
       "    .dataframe thead th {\n",
       "        text-align: right;\n",
       "    }\n",
       "</style>\n",
       "<table border=\"1\" class=\"dataframe\">\n",
       "  <thead>\n",
       "    <tr style=\"text-align: right;\">\n",
       "      <th></th>\n",
       "      <th>count_star()</th>\n",
       "    </tr>\n",
       "  </thead>\n",
       "  <tbody>\n",
       "    <tr>\n",
       "      <th>0</th>\n",
       "      <td>20680042</td>\n",
       "    </tr>\n",
       "  </tbody>\n",
       "</table>\n",
       "</div>"
      ],
      "text/plain": [
       "   count_star()\n",
       "0      20680042"
      ]
     },
     "execution_count": 207,
     "metadata": {},
     "output_type": "execute_result"
    }
   ],
   "source": [
    "conn.execute(f\"\"\"\n",
    "             SELECT COUNT(*)\n",
    "             FROM Acquisitions_With_Default_Flag\n",
    "             ;\n",
    "             \"\"\").fetchdf()"
   ]
  },
  {
   "cell_type": "code",
   "execution_count": 206,
   "metadata": {},
   "outputs": [
    {
     "data": {
      "text/html": [
       "<div>\n",
       "<style scoped>\n",
       "    .dataframe tbody tr th:only-of-type {\n",
       "        vertical-align: middle;\n",
       "    }\n",
       "\n",
       "    .dataframe tbody tr th {\n",
       "        vertical-align: top;\n",
       "    }\n",
       "\n",
       "    .dataframe thead th {\n",
       "        text-align: right;\n",
       "    }\n",
       "</style>\n",
       "<table border=\"1\" class=\"dataframe\">\n",
       "  <thead>\n",
       "    <tr style=\"text-align: right;\">\n",
       "      <th></th>\n",
       "      <th>PERIOD</th>\n",
       "      <th>AVG_DR</th>\n",
       "    </tr>\n",
       "  </thead>\n",
       "  <tbody>\n",
       "    <tr>\n",
       "      <th>0</th>\n",
       "      <td>2015</td>\n",
       "      <td>0.024694</td>\n",
       "    </tr>\n",
       "    <tr>\n",
       "      <th>1</th>\n",
       "      <td>2016</td>\n",
       "      <td>0.028368</td>\n",
       "    </tr>\n",
       "    <tr>\n",
       "      <th>2</th>\n",
       "      <td>2017</td>\n",
       "      <td>0.035197</td>\n",
       "    </tr>\n",
       "    <tr>\n",
       "      <th>3</th>\n",
       "      <td>2018</td>\n",
       "      <td>0.044251</td>\n",
       "    </tr>\n",
       "    <tr>\n",
       "      <th>4</th>\n",
       "      <td>2019</td>\n",
       "      <td>0.032363</td>\n",
       "    </tr>\n",
       "    <tr>\n",
       "      <th>5</th>\n",
       "      <td>2020</td>\n",
       "      <td>0.008418</td>\n",
       "    </tr>\n",
       "    <tr>\n",
       "      <th>6</th>\n",
       "      <td>2021</td>\n",
       "      <td>0.001761</td>\n",
       "    </tr>\n",
       "    <tr>\n",
       "      <th>7</th>\n",
       "      <td>2022</td>\n",
       "      <td>0.000514</td>\n",
       "    </tr>\n",
       "  </tbody>\n",
       "</table>\n",
       "</div>"
      ],
      "text/plain": [
       "  PERIOD    AVG_DR\n",
       "0   2015  0.024694\n",
       "1   2016  0.028368\n",
       "2   2017  0.035197\n",
       "3   2018  0.044251\n",
       "4   2019  0.032363\n",
       "5   2020  0.008418\n",
       "6   2021  0.001761\n",
       "7   2022  0.000514"
      ]
     },
     "execution_count": 206,
     "metadata": {},
     "output_type": "execute_result"
    }
   ],
   "source": [
    "conn.execute(f\"\"\"\n",
    "             SELECT RIGHT(ACT_PERIOD, 4) AS PERIOD,\n",
    "             AVG(DEFAULT_FLAG) AS AVG_DR\n",
    "             FROM Acquisitions_With_Default_Flag\n",
    "             GROUP BY 1 ORDER BY 1 ASC LIMIT 20\n",
    "             ;\n",
    "             \"\"\").fetchdf()"
   ]
  },
  {
   "cell_type": "code",
   "execution_count": 213,
   "metadata": {},
   "outputs": [
    {
     "data": {
      "application/vnd.jupyter.widget-view+json": {
       "model_id": "220ee5538dec47b5badcb4c817ed757e",
       "version_major": 2,
       "version_minor": 0
      },
      "text/plain": [
       "FloatProgress(value=0.0, layout=Layout(width='auto'), style=ProgressStyle(bar_color='black'))"
      ]
     },
     "metadata": {},
     "output_type": "display_data"
    },
    {
     "data": {
      "text/plain": [
       "<duckdb.duckdb.DuckDBPyConnection at 0x136be1030>"
      ]
     },
     "execution_count": 213,
     "metadata": {},
     "output_type": "execute_result"
    }
   ],
   "source": [
    "conn.execute(f\"\"\"\n",
    "             COPY Acquisitions_With_Default_Flag TO 'application_sample.parquet' (FORMAT PARQUET);\n",
    "             ;\n",
    "             \"\"\") # .fetchdf()"
   ]
  },
  {
   "cell_type": "code",
   "execution_count": 212,
   "metadata": {},
   "outputs": [
    {
     "data": {
      "text/plain": [
       "<duckdb.duckdb.DuckDBPyConnection at 0x136be1030>"
      ]
     },
     "execution_count": 212,
     "metadata": {},
     "output_type": "execute_result"
    }
   ],
   "source": [
    "conn.execute(f\"\"\"\n",
    "             COPY DEFAULT_FLAG_TABLE TO 'default_flag_table.parquet' (FORMAT PARQUET);\n",
    "             ;\n",
    "             \"\"\")"
   ]
  },
  {
   "cell_type": "markdown",
   "metadata": {},
   "source": [
    "### Model training"
   ]
  },
  {
   "cell_type": "code",
   "execution_count": 247,
   "metadata": {},
   "outputs": [],
   "source": [
    "import numpy as np\n",
    "import lightgbm as lgb\n",
    "from lightgbm import LGBMClassifier\n",
    "from sklearn.model_selection import train_test_split\n",
    "from sklearn.metrics import roc_auc_score"
   ]
  },
  {
   "cell_type": "code",
   "execution_count": 216,
   "metadata": {},
   "outputs": [],
   "source": [
    "application_sample = pd.read_parquet('application_sample.parquet')"
   ]
  },
  {
   "cell_type": "code",
   "execution_count": 222,
   "metadata": {},
   "outputs": [],
   "source": [
    "numeric_columns = ['orig_rt', 'orig_amt', 'oltv', 'ocltv', 'num_bo', 'dti', 'CSCORE_B', 'CSCORE_C', 'mi_pct']\n",
    "application_sample[numeric_columns] = application_sample[numeric_columns].astype(float)\n",
    "\n",
    "categorical_columns = ['ORIG_CHN', 'FTHB_FLG', 'purpose', 'PROP_TYP', 'NUM_UNIT', 'occ_stat', 'state', 'zip_3', 'prod_type', 'MI_TYPE', 'relo_flg']\n",
    "application_sample[categorical_columns] = application_sample[categorical_columns].astype('category')\n",
    "\n",
    "application_sample[numeric_columns] = application_sample[numeric_columns].replace('None', np.nan)\n",
    "application_sample[categorical_columns] = application_sample[categorical_columns].replace('None', np.nan)"
   ]
  },
  {
   "cell_type": "code",
   "execution_count": 250,
   "metadata": {},
   "outputs": [],
   "source": [
    "sample = application_sample.drop(['LOAN_ID', 'ACT_PERIOD', 'orig_date', 'first_pay'], axis=1)\n",
    "X = sample[\n",
    "    numeric_columns \n",
    "    + categorical_columns\n",
    "    + ['DEFAULT_FLAG']].copy()\n",
    "y = X.pop('DEFAULT_FLAG')\n",
    "\n",
    "ix_train, ix_test = train_test_split(\n",
    "    X.index,\n",
    "    stratify=y, \n",
    "    test_size=0.3, \n",
    "    random_state=24\n",
    ")"
   ]
  },
  {
   "cell_type": "code",
   "execution_count": 268,
   "metadata": {},
   "outputs": [
    {
     "name": "stdout",
     "output_type": "stream",
     "text": [
      "[LightGBM] [Warning] Categorical features with more bins than the configured maximum bin number found.\n",
      "[LightGBM] [Warning] For categorical features, max_bin and max_bin_by_feature may be ignored with a large number of categories.\n",
      "[LightGBM] [Info] Number of positive: 250858, number of negative: 14225171\n",
      "[LightGBM] [Info] Auto-choosing row-wise multi-threading, the overhead of testing was 0.237916 seconds.\n",
      "You can set `force_row_wise=true` to remove the overhead.\n",
      "And if memory is not enough, you can set `force_col_wise=true`.\n",
      "[LightGBM] [Info] Total Bins 1965\n",
      "[LightGBM] [Info] Number of data points in the train set: 14476029, number of used features: 20\n",
      "[LightGBM] [Info] [binary:BoostFromScore]: pavg=0.017329 -> initscore=-4.037881\n",
      "[LightGBM] [Info] Start training from score -4.037881\n",
      "[LightGBM] [Warning] No further splits with positive gain, best gain: -inf\n"
     ]
    },
    {
     "data": {
      "text/html": [
       "<style>#sk-container-id-3 {color: black;}#sk-container-id-3 pre{padding: 0;}#sk-container-id-3 div.sk-toggleable {background-color: white;}#sk-container-id-3 label.sk-toggleable__label {cursor: pointer;display: block;width: 100%;margin-bottom: 0;padding: 0.3em;box-sizing: border-box;text-align: center;}#sk-container-id-3 label.sk-toggleable__label-arrow:before {content: \"▸\";float: left;margin-right: 0.25em;color: #696969;}#sk-container-id-3 label.sk-toggleable__label-arrow:hover:before {color: black;}#sk-container-id-3 div.sk-estimator:hover label.sk-toggleable__label-arrow:before {color: black;}#sk-container-id-3 div.sk-toggleable__content {max-height: 0;max-width: 0;overflow: hidden;text-align: left;background-color: #f0f8ff;}#sk-container-id-3 div.sk-toggleable__content pre {margin: 0.2em;color: black;border-radius: 0.25em;background-color: #f0f8ff;}#sk-container-id-3 input.sk-toggleable__control:checked~div.sk-toggleable__content {max-height: 200px;max-width: 100%;overflow: auto;}#sk-container-id-3 input.sk-toggleable__control:checked~label.sk-toggleable__label-arrow:before {content: \"▾\";}#sk-container-id-3 div.sk-estimator input.sk-toggleable__control:checked~label.sk-toggleable__label {background-color: #d4ebff;}#sk-container-id-3 div.sk-label input.sk-toggleable__control:checked~label.sk-toggleable__label {background-color: #d4ebff;}#sk-container-id-3 input.sk-hidden--visually {border: 0;clip: rect(1px 1px 1px 1px);clip: rect(1px, 1px, 1px, 1px);height: 1px;margin: -1px;overflow: hidden;padding: 0;position: absolute;width: 1px;}#sk-container-id-3 div.sk-estimator {font-family: monospace;background-color: #f0f8ff;border: 1px dotted black;border-radius: 0.25em;box-sizing: border-box;margin-bottom: 0.5em;}#sk-container-id-3 div.sk-estimator:hover {background-color: #d4ebff;}#sk-container-id-3 div.sk-parallel-item::after {content: \"\";width: 100%;border-bottom: 1px solid gray;flex-grow: 1;}#sk-container-id-3 div.sk-label:hover label.sk-toggleable__label {background-color: #d4ebff;}#sk-container-id-3 div.sk-serial::before {content: \"\";position: absolute;border-left: 1px solid gray;box-sizing: border-box;top: 0;bottom: 0;left: 50%;z-index: 0;}#sk-container-id-3 div.sk-serial {display: flex;flex-direction: column;align-items: center;background-color: white;padding-right: 0.2em;padding-left: 0.2em;position: relative;}#sk-container-id-3 div.sk-item {position: relative;z-index: 1;}#sk-container-id-3 div.sk-parallel {display: flex;align-items: stretch;justify-content: center;background-color: white;position: relative;}#sk-container-id-3 div.sk-item::before, #sk-container-id-3 div.sk-parallel-item::before {content: \"\";position: absolute;border-left: 1px solid gray;box-sizing: border-box;top: 0;bottom: 0;left: 50%;z-index: -1;}#sk-container-id-3 div.sk-parallel-item {display: flex;flex-direction: column;z-index: 1;position: relative;background-color: white;}#sk-container-id-3 div.sk-parallel-item:first-child::after {align-self: flex-end;width: 50%;}#sk-container-id-3 div.sk-parallel-item:last-child::after {align-self: flex-start;width: 50%;}#sk-container-id-3 div.sk-parallel-item:only-child::after {width: 0;}#sk-container-id-3 div.sk-dashed-wrapped {border: 1px dashed gray;margin: 0 0.4em 0.5em 0.4em;box-sizing: border-box;padding-bottom: 0.4em;background-color: white;}#sk-container-id-3 div.sk-label label {font-family: monospace;font-weight: bold;display: inline-block;line-height: 1.2em;}#sk-container-id-3 div.sk-label-container {text-align: center;}#sk-container-id-3 div.sk-container {/* jupyter's `normalize.less` sets `[hidden] { display: none; }` but bootstrap.min.css set `[hidden] { display: none !important; }` so we also need the `!important` here to be able to override the default hidden behavior on the sphinx rendered scikit-learn.org. See: https://github.com/scikit-learn/scikit-learn/issues/21755 */display: inline-block !important;position: relative;}#sk-container-id-3 div.sk-text-repr-fallback {display: none;}</style><div id=\"sk-container-id-3\" class=\"sk-top-container\"><div class=\"sk-text-repr-fallback\"><pre>LGBMClassifier(learning_rate=0.3, max_depth=3, num_leaves=10)</pre><b>In a Jupyter environment, please rerun this cell to show the HTML representation or trust the notebook. <br />On GitHub, the HTML representation is unable to render, please try loading this page with nbviewer.org.</b></div><div class=\"sk-container\" hidden><div class=\"sk-item\"><div class=\"sk-estimator sk-toggleable\"><input class=\"sk-toggleable__control sk-hidden--visually\" id=\"sk-estimator-id-9\" type=\"checkbox\" checked><label for=\"sk-estimator-id-9\" class=\"sk-toggleable__label sk-toggleable__label-arrow\">LGBMClassifier</label><div class=\"sk-toggleable__content\"><pre>LGBMClassifier(learning_rate=0.3, max_depth=3, num_leaves=10)</pre></div></div></div></div></div>"
      ],
      "text/plain": [
       "LGBMClassifier(learning_rate=0.3, max_depth=3, num_leaves=10)"
      ]
     },
     "execution_count": 268,
     "metadata": {},
     "output_type": "execute_result"
    }
   ],
   "source": [
    "for c in categorical_columns:\n",
    "    X[c] = X[c].astype('category')\n",
    "    \n",
    "params = {\n",
    "    'n_estimators': 100,\n",
    "    'max_depth': 3,\n",
    "    'num_leaves': 10,\n",
    "    'learning_rate': 0.3,\n",
    "}\n",
    "\n",
    "lgb_model = LGBMClassifier(**params)\n",
    "lgb_model.fit(X.loc[ix_train], y.loc[ix_train])"
   ]
  },
  {
   "cell_type": "code",
   "execution_count": 297,
   "metadata": {},
   "outputs": [
    {
     "name": "stdout",
     "output_type": "stream",
     "text": [
      "68.5423%, 67.6877%\n"
     ]
    }
   ],
   "source": [
    "preds_train = lgb_model.predict_proba(X.loc[ix_train])[:, 1]\n",
    "preds_test = lgb_model.predict_proba(X.loc[ix_test])[:, 1]\n",
    "\n",
    "gini_train = roc_auc_score(y.loc[ix_train], preds_train) * 2 - 1\n",
    "gini_test = roc_auc_score(y.loc[ix_test], preds_test) * 2 - 1\n",
    "\n",
    "print(f\"{gini_train:.4%}, {gini_test:.4%}\")"
   ]
  },
  {
   "cell_type": "code",
   "execution_count": 310,
   "metadata": {},
   "outputs": [
    {
     "data": {
      "text/plain": [
       "<Axes: ylabel='Feature'>"
      ]
     },
     "execution_count": 310,
     "metadata": {},
     "output_type": "execute_result"
    },
    {
     "data": {
      "image/png": "[encoded data removed]",
      "text/plain": [
       "<Figure size 640x480 with 1 Axes>"
      ]
     },
     "metadata": {},
     "output_type": "display_data"
    }
   ],
   "source": [
    "pd.DataFrame(\n",
    "    {'Value':lgb_model.booster_.feature_importance(importance_type='gain'),\n",
    "     'Feature':X.columns}).sort_values('Value', ascending=True).plot(\n",
    "         x='Feature', \n",
    "         kind='barh',\n",
    "         width=0.8,)"
   ]
  },
  {
   "cell_type": "code",
   "execution_count": 312,
   "metadata": {},
   "outputs": [],
   "source": [
    "# lgb.plot_importance(lgb_model, figsize=(10, 10))"
   ]
  },
  {
   "cell_type": "markdown",
   "metadata": {},
   "source": [
    "### Serialize the model"
   ]
  },
  {
   "cell_type": "code",
   "execution_count": 278,
   "metadata": {},
   "outputs": [],
   "source": [
    "from mlem.api import save"
   ]
  },
  {
   "cell_type": "code",
   "execution_count": 279,
   "metadata": {},
   "outputs": [
    {
     "data": {
      "text/plain": [
       "MlemModel(location=Location(path='/Users/deburky/Documents/python/data/federal-home-loan-bank-system/fnma-lgb-model.mlem', project=None, rev=None, uri='file:///Users/deburky/Documents/python/data/federal-home-loan-bank-system/fnma-lgb-model.mlem', project_uri=None, fs=<fsspec.implementations.local.LocalFileSystem object at 0x938c00700>), params={}, artifacts={'data': LocalArtifact(uri='fnma-lgb-model', size=155447, hash='7b55f65f0b8de7ec40b538d6b8a1948d')}, requirements=Requirements(__root__=[InstallableRequirement(module='numpy', version='1.26.0', package_name=None, extra_index=None, source_url=None, vcs=None, vcs_commit=None), InstallableRequirement(module='pandas', version='2.1.1', package_name=None, extra_index=None, source_url=None, vcs=None, vcs_commit=None), UnixPackageRequirement(package_name='libgomp1'), InstallableRequirement(module='lightgbm', version='4.1.0', package_name=None, extra_index=None, source_url=None, vcs=None, vcs_commit=None), InstallableRequirement(module='sklearn', version='1.3.2', package_name='scikit-learn', extra_index=None, source_url=None, vcs=None, vcs_commit=None)]), processors_cache={'model': SklearnModel(model=LGBMClassifier(learning_rate=0.3, max_depth=3, num_leaves=10), io=SimplePickleIO(), methods={'predict': Signature(name='predict', args=[Argument(name='X', type_=DataFrameType(value=None, columns=['', 'orig_rt', 'orig_amt', 'oltv', 'ocltv', 'num_bo', 'dti', 'CSCORE_B', 'CSCORE_C', 'mi_pct', 'ORIG_CHN', 'FTHB_FLG', 'purpose', 'PROP_TYP', 'NUM_UNIT', 'occ_stat', 'state', 'zip_3', 'prod_type', 'MI_TYPE', 'relo_flg'], dtypes=['int64', 'float64', 'float64', 'float64', 'float64', 'float64', 'float64', 'float64', 'float64', 'float64', 'category', 'category', 'category', 'category', 'category', 'category', 'category', 'category', 'category', 'category', 'category'], index_cols=['']), required=True, default=None, kw_only=False), Argument(name='raw_score', type_=PrimitiveType(value=None, ptype='bool'), required=False, default=False, kw_only=False), Argument(name='start_iteration', type_=PrimitiveType(value=None, ptype='int'), required=False, default=0, kw_only=False), Argument(name='num_iteration', type_=PrimitiveType(value=None, ptype='NoneType'), required=False, default=None, kw_only=False), Argument(name='pred_leaf', type_=PrimitiveType(value=None, ptype='bool'), required=False, default=False, kw_only=False), Argument(name='pred_contrib', type_=PrimitiveType(value=None, ptype='bool'), required=False, default=False, kw_only=False), Argument(name='validate_features', type_=PrimitiveType(value=None, ptype='bool'), required=False, default=False, kw_only=False)], returns=NumpyNdarrayType(value=None, shape=(None,), dtype='int32'), varargs=None, varargs_type=None, varkw='kwargs', varkw_type=None), 'predict_proba': Signature(name='predict_proba', args=[Argument(name='X', type_=DataFrameType(value=None, columns=['', 'orig_rt', 'orig_amt', 'oltv', 'ocltv', 'num_bo', 'dti', 'CSCORE_B', 'CSCORE_C', 'mi_pct', 'ORIG_CHN', 'FTHB_FLG', 'purpose', 'PROP_TYP', 'NUM_UNIT', 'occ_stat', 'state', 'zip_3', 'prod_type', 'MI_TYPE', 'relo_flg'], dtypes=['int64', 'float64', 'float64', 'float64', 'float64', 'float64', 'float64', 'float64', 'float64', 'float64', 'category', 'category', 'category', 'category', 'category', 'category', 'category', 'category', 'category', 'category', 'category'], index_cols=['']), required=True, default=None, kw_only=False), Argument(name='raw_score', type_=PrimitiveType(value=None, ptype='bool'), required=False, default=False, kw_only=False), Argument(name='start_iteration', type_=PrimitiveType(value=None, ptype='int'), required=False, default=0, kw_only=False), Argument(name='num_iteration', type_=PrimitiveType(value=None, ptype='NoneType'), required=False, default=None, kw_only=False), Argument(name='pred_leaf', type_=PrimitiveType(value=None, ptype='bool'), required=False, default=False, kw_only=False), Argument(name='pred_contrib', type_=PrimitiveType(value=None, ptype='bool'), required=False, default=False, kw_only=False), Argument(name='validate_features', type_=PrimitiveType(value=None, ptype='bool'), required=False, default=False, kw_only=False)], returns=NumpyNdarrayType(value=None, shape=(None, 2), dtype='float64'), varargs=None, varargs_type=None, varkw='kwargs', varkw_type=None)})}, call_orders={'predict_proba': [('model', 'predict_proba')], 'predict': [('model', 'predict')]})"
      ]
     },
     "execution_count": 279,
     "metadata": {},
     "output_type": "execute_result"
    }
   ],
   "source": [
    "path = os.path.join(os.getcwd(), \"fnma-lgb-model\")\n",
    "save(lgb_model, path, sample_data=X.loc[ix_test][0:5])"
   ]
  },
  {
   "cell_type": "markdown",
   "metadata": {},
   "source": [
    "### Clean-up database"
   ]
  },
  {
   "cell_type": "code",
   "execution_count": 291,
   "metadata": {},
   "outputs": [],
   "source": [
    "list_of_tables = conn.execute(f\"\"\"SHOW TABLES;\"\"\").fetchdf()"
   ]
  },
  {
   "cell_type": "code",
   "execution_count": 294,
   "metadata": {},
   "outputs": [
    {
     "name": "stdout",
     "output_type": "stream",
     "text": [
      "Acquisitions_With_Default_Flag\n",
      "Default_Flag_Table\n",
      "acqFirstPeriod\n",
      "acquisitionFile\n",
      "acquisitions\n",
      "combined_data\n",
      "fnma_sf_loan_performance_r_primary\n"
     ]
    }
   ],
   "source": [
    "for table in list_of_tables['name']:\n",
    "    print(table)"
   ]
  },
  {
   "cell_type": "code",
   "execution_count": 295,
   "metadata": {},
   "outputs": [
    {
     "name": "stdout",
     "output_type": "stream",
     "text": [
      "Acquisitions_With_Default_Flag\n",
      "dropped\n",
      "Default_Flag_Table\n",
      "dropped\n",
      "acqFirstPeriod\n",
      "dropped\n",
      "acquisitionFile\n",
      "dropped\n",
      "acquisitions\n",
      "dropped\n",
      "combined_data\n",
      "dropped\n",
      "fnma_sf_loan_performance_r_primary\n",
      "dropped\n"
     ]
    }
   ],
   "source": [
    "for table in list_of_tables['name']:\n",
    "    print(table)\n",
    "    conn.execute(f'DROP TABLE IF EXISTS {table};')\n",
    "    print('dropped')"
   ]
  },
  {
   "cell_type": "code",
   "execution_count": 296,
   "metadata": {},
   "outputs": [],
   "source": [
    "# Database file\n",
    "db_file_path = f\"{os.getcwd()}/my_db.db\"\n",
    "if os.path.exists(db_file_path):\n",
    "    os.remove(db_file_path)\n",
    "else:\n",
    "    print(\"The database file does not exist.\")\n",
    "\n",
    "# WAL file\n",
    "wal_file_path = f\"{os.getcwd()}/my_db.db.wal\"\n",
    "if os.path.exists(wal_file_path):\n",
    "    os.remove(wal_file_path)\n",
    "else:\n",
    "    print(\"The WAL file does not exist.\")"
   ]
  },
  {
   "cell_type": "code",
   "execution_count": 118,
   "metadata": {},
   "outputs": [],
   "source": [
    "# query = \"\"\"\n",
    "# SELECT column_name, data_type, is_nullable, ordinal_position\n",
    "# FROM information_schema.columns\n",
    "# WHERE table_name = 'fnma_sf_loan_performance_r_primary'\n",
    "# \"\"\"\n",
    "\n",
    "# df = conn.execute(f'{query}').fetchdf()"
   ]
  },
  {
   "cell_type": "code",
   "execution_count": null,
   "metadata": {},
   "outputs": [],
   "source": [
    "# conn.execute(f'DROP TABLE IF EXISTS fnma_sf_loan_performance_r_primary;')\n",
    "# conn.execute(f'DROP TABLE IF EXISTS acquisitions;')\n",
    "# conn.execute(f'DROP TABLE IF EXISTS acquisitionFile;')\n",
    "# conn.execute(f'DROP TABLE IF EXISTS acqFirstPeriod;')"
   ]
  },
  {
   "cell_type": "code",
   "execution_count": null,
   "metadata": {},
   "outputs": [],
   "source": [
    "# DLQ_STATUS: Delinquency status.\n",
    "# PMT_HISTORY: Payment history.\n",
    "\n",
    "# MOD_FLAG: Modification flag.\n",
    "# MI_CANCEL_FLAG: MI cancel flag.\n",
    "# NET_SALES_PROCEEDS : Net sales proceeds.\n",
    "# CUMULATIVE_CREDIT_EVENT_NET_GAIN_OR_LOSS"
   ]
  }
 ],
 "metadata": {
  "kernelspec": {
   "display_name": "base",
   "language": "python",
   "name": "python3"
  },
  "language_info": {
   "codemirror_mode": {
    "name": "ipython",
    "version": 3
   },
   "file_extension": ".py",
   "mimetype": "text/x-python",
   "name": "python",
   "nbconvert_exporter": "python",
   "pygments_lexer": "ipython3",
   "version": "3.10.12"
  }
 },
 "nbformat": 4,
 "nbformat_minor": 2
}
